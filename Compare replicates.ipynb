{
 "cells": [
  {
   "cell_type": "code",
   "execution_count": 1,
   "id": "93fbf307",
   "metadata": {},
   "outputs": [],
   "source": [
    "import pandas as pd\n",
    "import seaborn as sns\n",
    "import matplotlib.pyplot as plt\n",
    "plt.rcParams['figure.max_open_warning'] = 0\n",
    "import numpy as np\n",
    "#import pandas as pd\n",
    "df3 = pd.read_table(r\"D:\\Yuliya_test_data_table\\Yuliya_test_data_table_deconv-only_3prime.txt\", delimiter = '\\t')#, nrows=2)\n",
    "df5 = pd.read_table(r\"D:\\Yuliya_test_data_table\\Yuliya_test_data_table_deconv-only.txt\", delimiter = '\\t')#, nrows=2)\n"
   ]
  },
  {
   "cell_type": "code",
   "execution_count": 1,
   "id": "28651d44",
   "metadata": {},
   "outputs": [
    {
     "ename": "NameError",
     "evalue": "name 'df5' is not defined",
     "output_type": "error",
     "traceback": [
      "\u001b[1;31m---------------------------------------------------------------------------\u001b[0m",
      "\u001b[1;31mNameError\u001b[0m                                 Traceback (most recent call last)",
      "\u001b[1;32m~\\AppData\\Local\\Temp\\ipykernel_15252\\2032183011.py\u001b[0m in \u001b[0;36m<module>\u001b[1;34m\u001b[0m\n\u001b[1;32m----> 1\u001b[1;33m \u001b[0mdfclean5\u001b[0m \u001b[1;33m=\u001b[0m \u001b[0mdf5\u001b[0m\u001b[1;33m.\u001b[0m\u001b[0mcopy\u001b[0m\u001b[1;33m(\u001b[0m\u001b[1;33m)\u001b[0m\u001b[1;33m\u001b[0m\u001b[1;33m\u001b[0m\u001b[0m\n\u001b[0m\u001b[0;32m      2\u001b[0m \u001b[1;31m#keep this order because I went through the output file individually to determine these lines\u001b[0m\u001b[1;33m\u001b[0m\u001b[1;33m\u001b[0m\u001b[0m\n\u001b[0;32m      3\u001b[0m \u001b[0mdfclean5\u001b[0m \u001b[1;33m=\u001b[0m \u001b[0mdfclean5\u001b[0m\u001b[1;33m[\u001b[0m\u001b[1;33m~\u001b[0m\u001b[0mdfclean5\u001b[0m\u001b[1;33m.\u001b[0m\u001b[0mindex\u001b[0m\u001b[1;33m.\u001b[0m\u001b[0misin\u001b[0m\u001b[1;33m(\u001b[0m\u001b[0mrange\u001b[0m\u001b[1;33m(\u001b[0m\u001b[1;36m33482\u001b[0m\u001b[1;33m,\u001b[0m \u001b[1;36m33797\u001b[0m\u001b[1;33m)\u001b[0m\u001b[1;33m)\u001b[0m\u001b[1;33m]\u001b[0m \u001b[1;31m#122\u001b[0m\u001b[1;33m\u001b[0m\u001b[1;33m\u001b[0m\u001b[0m\n\u001b[0;32m      4\u001b[0m \u001b[0mdfclean5\u001b[0m \u001b[1;33m=\u001b[0m \u001b[0mdfclean5\u001b[0m\u001b[1;33m[\u001b[0m\u001b[1;33m~\u001b[0m\u001b[0mdfclean5\u001b[0m\u001b[1;33m.\u001b[0m\u001b[0mindex\u001b[0m\u001b[1;33m.\u001b[0m\u001b[0misin\u001b[0m\u001b[1;33m(\u001b[0m\u001b[0mrange\u001b[0m\u001b[1;33m(\u001b[0m\u001b[1;36m34747\u001b[0m\u001b[1;33m,\u001b[0m \u001b[1;36m35652\u001b[0m\u001b[1;33m)\u001b[0m\u001b[1;33m)\u001b[0m\u001b[1;33m]\u001b[0m \u001b[1;31m#126, 127, 128\u001b[0m\u001b[1;33m\u001b[0m\u001b[1;33m\u001b[0m\u001b[0m\n\u001b[0;32m      5\u001b[0m \u001b[0mdfclean5\u001b[0m \u001b[1;33m=\u001b[0m \u001b[0mdfclean5\u001b[0m\u001b[1;33m[\u001b[0m\u001b[1;33m~\u001b[0m\u001b[0mdfclean5\u001b[0m\u001b[1;33m.\u001b[0m\u001b[0mindex\u001b[0m\u001b[1;33m.\u001b[0m\u001b[0misin\u001b[0m\u001b[1;33m(\u001b[0m\u001b[0mrange\u001b[0m\u001b[1;33m(\u001b[0m\u001b[1;36m35930\u001b[0m\u001b[1;33m,\u001b[0m \u001b[1;36m36501\u001b[0m\u001b[1;33m)\u001b[0m\u001b[1;33m)\u001b[0m\u001b[1;33m]\u001b[0m \u001b[1;31m#130, 131\u001b[0m\u001b[1;33m\u001b[0m\u001b[1;33m\u001b[0m\u001b[0m\n",
      "\u001b[1;31mNameError\u001b[0m: name 'df5' is not defined"
     ]
    }
   ],
   "source": [
    "dfclean5 = df5.copy()\n",
    "#keep this order because I went through the output file individually to determine these lines\n",
    "dfclean5 = dfclean5[~dfclean5.index.isin(range(33482, 33797))] #122\n",
    "dfclean5 = dfclean5[~dfclean5.index.isin(range(34747, 35652))] #126, 127, 128\n",
    "dfclean5 = dfclean5[~dfclean5.index.isin(range(35930, 36501))] #130, 131\n",
    "dfclean5 = dfclean5[~dfclean5.index.isin(range(36770, 37054))] #133\n",
    "dfclean5 = dfclean5[~dfclean5.index.isin(range(38773, 39015))] #140\n",
    "dfclean5 = dfclean5[~dfclean5.index.isin(range(39325, 39543))] #142\n",
    "dfclean5 = dfclean5[~dfclean5.index.isin(range(40030, 40626))] #145, 146\n",
    "dfclean5 = dfclean5[~dfclean5.index.isin(range(46853, 49718))] #170, 171, 172, 173, 174, 175, 176, 177, 178, 179, 180, 181, 182\n",
    "dfclean5 = dfclean5[~(dfclean5.index >= 115849)] #the rest\n",
    "\n",
    "pd.set_option('display.max_rows', None)  # Show all rows\n",
    "pd.set_option('display.max_columns', None)  # Show all columns\n",
    "pd.set_option('display.width', None)  # Disable column width wrapping\n",
    "\n",
    "# Print the entire dataframe\n",
    "#print(dfclean5)\n",
    "#dfclean2.to_excel('C:/Users/Administrator/Desktop/dfclean5.xlsx', index=False)"
   ]
  },
  {
   "cell_type": "code",
   "execution_count": 3,
   "id": "718e1847",
   "metadata": {},
   "outputs": [],
   "source": [
    "dfclean5_adjustedto_m = dfclean5\n",
    "numeric_columns = dfclean5_adjustedto_m.select_dtypes(include=[np.number]).columns\n",
    "\n",
    "# Calculate z-scores and adjust outliers to the mean\n",
    "numeric_columns = dfclean5_adjustedto_m.select_dtypes(include=[np.number]).columns\n",
    "\n",
    "# Adjust outliers to the mean\n",
    "for col in numeric_columns:\n",
    "    mean = dfclean5_adjustedto_m[col].mean()\n",
    "    std = dfclean5_adjustedto_m[col].std()\n",
    "    z_scores = (dfclean5_adjustedto_m[col] - mean) / std\n",
    "    \n",
    "    # Replace outliers (threshold: 3 standard deviations from the mean) with the mean\n",
    "    outlier_threshold = 20.0\n",
    "    dfclean5_adjustedto_m[col] = np.where(np.abs(z_scores) > outlier_threshold, mean, dfclean5_adjustedto_m[col])\n",
    "    dfclean5_adjustedto_m[col] =  dfclean5_adjustedto_m[col].astype(int)\n",
    "#print(dfclean3_adjustedto_m)"
   ]
  },
  {
   "cell_type": "code",
   "execution_count": 15,
   "id": "a1fbcd41",
   "metadata": {},
   "outputs": [
    {
     "name": "stdout",
     "output_type": "stream",
     "text": [
      "Index(['IB', 'plate', 'well', 'C15', 'C25'], dtype='object')\n"
     ]
    }
   ],
   "source": [
    "C15_df = dfclean5_adjustedto_m[['IB', 'plate', 'well', 'C15', 'C25']]\n",
    "D15_df = dfclean5_adjustedto_m[['IB', 'plate', 'well', 'D15','D25']]\n",
    "R15_df = dfclean5_adjustedto_m[['IB', 'plate', 'well', 'R15', 'R25']]\n",
    "print( C15_df.columns)\n"
   ]
  },
  {
   "cell_type": "code",
   "execution_count": 59,
   "id": "0bdde336",
   "metadata": {},
   "outputs": [
    {
     "name": "stderr",
     "output_type": "stream",
     "text": [
      "C:\\Users\\Administrator\\AppData\\Local\\Temp\\ipykernel_25972\\3624096639.py:1: SettingWithCopyWarning: \n",
      "A value is trying to be set on a copy of a slice from a DataFrame.\n",
      "Try using .loc[row_indexer,col_indexer] = value instead\n",
      "\n",
      "See the caveats in the documentation: https://pandas.pydata.org/pandas-docs/stable/user_guide/indexing.html#returning-a-view-versus-a-copy\n",
      "  C15_df['platenum'] = C15_df['plate'].str.extract(r'(\\d+)').astype(int)\n",
      "C:\\Users\\Administrator\\AppData\\Local\\Temp\\ipykernel_25972\\3624096639.py:2: SettingWithCopyWarning: \n",
      "A value is trying to be set on a copy of a slice from a DataFrame.\n",
      "Try using .loc[row_indexer,col_indexer] = value instead\n",
      "\n",
      "See the caveats in the documentation: https://pandas.pydata.org/pandas-docs/stable/user_guide/indexing.html#returning-a-view-versus-a-copy\n",
      "  C15_df['difference'] = C15_df['C15']-C15_df['C25']\n",
      "C:\\Users\\Administrator\\AppData\\Local\\Temp\\ipykernel_25972\\3624096639.py:4: SettingWithCopyWarning: \n",
      "A value is trying to be set on a copy of a slice from a DataFrame.\n",
      "Try using .loc[row_indexer,col_indexer] = value instead\n",
      "\n",
      "See the caveats in the documentation: https://pandas.pydata.org/pandas-docs/stable/user_guide/indexing.html#returning-a-view-versus-a-copy\n",
      "  D15_df['platenum'] = D15_df['plate'].str.extract(r'(\\d+)').astype(int)\n",
      "C:\\Users\\Administrator\\AppData\\Local\\Temp\\ipykernel_25972\\3624096639.py:5: SettingWithCopyWarning: \n",
      "A value is trying to be set on a copy of a slice from a DataFrame.\n",
      "Try using .loc[row_indexer,col_indexer] = value instead\n",
      "\n",
      "See the caveats in the documentation: https://pandas.pydata.org/pandas-docs/stable/user_guide/indexing.html#returning-a-view-versus-a-copy\n",
      "  C15_df['difference'] = C15_df['C15']-C15_df['C25']\n"
     ]
    },
    {
     "name": "stdout",
     "output_type": "stream",
     "text": [
      "Index(['IB', 'plate', 'well', 'C15', 'C25', 'platenum', 'difference'], dtype='object')\n"
     ]
    },
    {
     "name": "stderr",
     "output_type": "stream",
     "text": [
      "C:\\Users\\Administrator\\AppData\\Local\\Temp\\ipykernel_25972\\3624096639.py:7: SettingWithCopyWarning: \n",
      "A value is trying to be set on a copy of a slice from a DataFrame.\n",
      "Try using .loc[row_indexer,col_indexer] = value instead\n",
      "\n",
      "See the caveats in the documentation: https://pandas.pydata.org/pandas-docs/stable/user_guide/indexing.html#returning-a-view-versus-a-copy\n",
      "  R15_df['platenum'] = R15_df['plate'].str.extract(r'(\\d+)').astype(int)\n",
      "C:\\Users\\Administrator\\AppData\\Local\\Temp\\ipykernel_25972\\3624096639.py:8: SettingWithCopyWarning: \n",
      "A value is trying to be set on a copy of a slice from a DataFrame.\n",
      "Try using .loc[row_indexer,col_indexer] = value instead\n",
      "\n",
      "See the caveats in the documentation: https://pandas.pydata.org/pandas-docs/stable/user_guide/indexing.html#returning-a-view-versus-a-copy\n",
      "  R15_df['differenceR'] = R15_df['R15']-R15_df['R25']\n"
     ]
    }
   ],
   "source": [
    "C15_df['platenum'] = C15_df['plate'].str.extract(r'(\\d+)').astype(int)\n",
    "C15_df['difference'] = C15_df['C15']-C15_df['C25']\n",
    "\n",
    "D15_df['platenum'] = D15_df['plate'].str.extract(r'(\\d+)').astype(int)\n",
    "C15_df['difference'] = C15_df['C15']-C15_df['C25']\n",
    "\n",
    "R15_df['platenum'] = R15_df['plate'].str.extract(r'(\\d+)').astype(int)\n",
    "R15_df['differenceR'] = R15_df['R15']-R15_df['R25']\n",
    "\n",
    "#print( C15_df.columns)"
   ]
  },
  {
   "cell_type": "code",
   "execution_count": 2,
   "id": "513393a2",
   "metadata": {},
   "outputs": [
    {
     "ename": "NameError",
     "evalue": "name 'C15_df' is not defined",
     "output_type": "error",
     "traceback": [
      "\u001b[1;31m---------------------------------------------------------------------------\u001b[0m",
      "\u001b[1;31mNameError\u001b[0m                                 Traceback (most recent call last)",
      "\u001b[1;32m~\\AppData\\Local\\Temp\\ipykernel_15252\\1769702915.py\u001b[0m in \u001b[0;36m<module>\u001b[1;34m\u001b[0m\n\u001b[0;32m      6\u001b[0m \u001b[1;31m#R25_dfgroups = {}\u001b[0m\u001b[1;33m\u001b[0m\u001b[1;33m\u001b[0m\u001b[0m\n\u001b[0;32m      7\u001b[0m \u001b[1;33m\u001b[0m\u001b[0m\n\u001b[1;32m----> 8\u001b[1;33m \u001b[1;32mfor\u001b[0m \u001b[0mpattern\u001b[0m\u001b[1;33m,\u001b[0m \u001b[0mgroup\u001b[0m \u001b[1;32min\u001b[0m \u001b[0mC15_df\u001b[0m\u001b[1;33m.\u001b[0m\u001b[0mgroupby\u001b[0m\u001b[1;33m(\u001b[0m\u001b[1;34m'platenum'\u001b[0m\u001b[1;33m)\u001b[0m\u001b[1;33m:\u001b[0m\u001b[1;33m\u001b[0m\u001b[1;33m\u001b[0m\u001b[0m\n\u001b[0m\u001b[0;32m      9\u001b[0m     \u001b[0mC15_dfgroups\u001b[0m\u001b[1;33m[\u001b[0m\u001b[0mpattern\u001b[0m\u001b[1;33m]\u001b[0m \u001b[1;33m=\u001b[0m \u001b[0mgroup\u001b[0m\u001b[1;33m\u001b[0m\u001b[1;33m\u001b[0m\u001b[0m\n\u001b[0;32m     10\u001b[0m     \u001b[1;31m#print( group.columns)\u001b[0m\u001b[1;33m\u001b[0m\u001b[1;33m\u001b[0m\u001b[0m\n",
      "\u001b[1;31mNameError\u001b[0m: name 'C15_df' is not defined"
     ]
    }
   ],
   "source": [
    "\n",
    "C15_dfgroups = {}\n",
    "#C25_dfgroups = {}\n",
    "D15_dfgroups = {}\n",
    "#D25_dfgroups = {}\n",
    "R15_dfgroups = {}\n",
    "#R25_dfgroups = {}\n",
    "\n",
    "for pattern, group in C15_df.groupby('platenum'):\n",
    "    C15_dfgroups[pattern] = group\n",
    "    #print( group.columns)\n",
    "#for pattern, group in C25_dfgrouped.groupby('platenum'):\n",
    "#    C25_dfgroups[pattern] = group\n",
    "    \n",
    "for pattern, group in D15_df.groupby('platenum'):\n",
    "    D15_dfgroups[pattern] = group\n",
    "    \n",
    "#for pattern, group in D25_dfgrouped.groupby('platenum'):\n",
    "#    D25_dfgroups[pattern] = group\n",
    "    \n",
    "for pattern, group in R15_df.groupby('platenum'):\n",
    "    R15_dfgroups[pattern] = group\n",
    "    \n",
    "#for pattern, group in R25_dfgrouped.groupby('platenum'):\n",
    "#    R25_dfgroups[pattern] = group\n"
   ]
  },
  {
   "cell_type": "code",
   "execution_count": 3,
   "id": "6d320d16",
   "metadata": {},
   "outputs": [
    {
     "ename": "IndentationError",
     "evalue": "unexpected indent (221608947.py, line 2)",
     "output_type": "error",
     "traceback": [
      "\u001b[1;36m  File \u001b[1;32m\"C:\\Users\\Administrator\\AppData\\Local\\Temp\\ipykernel_15252\\221608947.py\"\u001b[1;36m, line \u001b[1;32m2\u001b[0m\n\u001b[1;33m    plt.figure(figsize=(25, 6))\u001b[0m\n\u001b[1;37m    ^\u001b[0m\n\u001b[1;31mIndentationError\u001b[0m\u001b[1;31m:\u001b[0m unexpected indent\n"
     ]
    }
   ],
   "source": [
    "#for key, df in C15_dfgroups.items():\n",
    "    plt.figure(figsize=(25, 6))\n",
    "    plt.scatter(df.index, df['C15'].astype(int), label='C15')  # Convert to int and plot 'C15' column\n",
    "    plt.scatter(df.index, df['C25'].astype(int), label='C25')  # Convert to int and plot 'C25' column\n",
    "    plt.scatter(df.index, df['difference'].astype(int), label='difference')  # Convert to int and plot 'C25' column\n",
    "\n",
    "    \n",
    "    plt.xlabel('Index')  # Assuming 'well' is not a numeric column, otherwise, replace with 'well'\n",
    "    plt.ylabel('Data')\n",
    "    plt.title(f'Plot for plate {key}')\n",
    "    plt.legend()\n",
    "    plt.show()"
   ]
  },
  {
   "cell_type": "code",
   "execution_count": 4,
   "id": "74b15a00",
   "metadata": {},
   "outputs": [
    {
     "ename": "IndentationError",
     "evalue": "unexpected indent (2098516788.py, line 2)",
     "output_type": "error",
     "traceback": [
      "\u001b[1;36m  File \u001b[1;32m\"C:\\Users\\Administrator\\AppData\\Local\\Temp\\ipykernel_15252\\2098516788.py\"\u001b[1;36m, line \u001b[1;32m2\u001b[0m\n\u001b[1;33m    plt.figure(figsize=(10, 6))\u001b[0m\n\u001b[1;37m    ^\u001b[0m\n\u001b[1;31mIndentationError\u001b[0m\u001b[1;31m:\u001b[0m unexpected indent\n"
     ]
    }
   ],
   "source": [
    "#for key, df in C15_dfgroups.items():\n",
    "    plt.figure(figsize=(10, 6))\n",
    "    plt.boxplot([df['difference']])\n",
    "    plt.title(f'Difference range for plate {key}')\n",
    "\n",
    "#plt.show()"
   ]
  },
  {
   "cell_type": "code",
   "execution_count": 5,
   "id": "a36acc81",
   "metadata": {},
   "outputs": [
    {
     "ename": "IndentationError",
     "evalue": "unexpected indent (1794364966.py, line 2)",
     "output_type": "error",
     "traceback": [
      "\u001b[1;36m  File \u001b[1;32m\"C:\\Users\\Administrator\\AppData\\Local\\Temp\\ipykernel_15252\\1794364966.py\"\u001b[1;36m, line \u001b[1;32m2\u001b[0m\n\u001b[1;33m    plt.figure(figsize=(25, 6))\u001b[0m\n\u001b[1;37m    ^\u001b[0m\n\u001b[1;31mIndentationError\u001b[0m\u001b[1;31m:\u001b[0m unexpected indent\n"
     ]
    }
   ],
   "source": [
    "#for key, df in R15_dfgroups.items():\n",
    "    plt.figure(figsize=(25, 6))\n",
    "    plt.scatter(df.index, df['R15'].astype(int), label='R15')  # Convert to int and plot 'C15' column\n",
    "    plt.scatter(df.index, df['R25'].astype(int), label='R25')  # Convert to int and plot 'C25' column\n",
    "    plt.scatter(df.index, df['differenceR'].astype(int), label='differenceR')  # Convert to int and plot 'C25' column\n",
    "\n",
    "    \n",
    "    plt.xlabel('Index')  # Assuming 'well' is not a numeric column, otherwise, replace with 'well'\n",
    "    plt.ylabel('Data')\n",
    "    plt.title(f'Plot for plate {key}')\n",
    "    plt.legend()\n",
    "    plt.show()\n"
   ]
  },
  {
   "cell_type": "code",
   "execution_count": 6,
   "id": "9142947c",
   "metadata": {},
   "outputs": [
    {
     "ename": "IndentationError",
     "evalue": "unexpected indent (4264771320.py, line 2)",
     "output_type": "error",
     "traceback": [
      "\u001b[1;36m  File \u001b[1;32m\"C:\\Users\\Administrator\\AppData\\Local\\Temp\\ipykernel_15252\\4264771320.py\"\u001b[1;36m, line \u001b[1;32m2\u001b[0m\n\u001b[1;33m    plt.figure(figsize=(10, 6))\u001b[0m\n\u001b[1;37m    ^\u001b[0m\n\u001b[1;31mIndentationError\u001b[0m\u001b[1;31m:\u001b[0m unexpected indent\n"
     ]
    }
   ],
   "source": [
    "#for key, df in R15_dfgroups.items():\n",
    "    plt.figure(figsize=(10, 6))\n",
    "    plt.boxplot([df['differenceR']])\n",
    "    plt.title(f'Difference range for plate {key}')\n",
    "\n",
    "#plt.show()"
   ]
  },
  {
   "cell_type": "code",
   "execution_count": null,
   "id": "0ac7956b",
   "metadata": {},
   "outputs": [],
   "source": []
  }
 ],
 "metadata": {
  "kernelspec": {
   "display_name": "Python 3 (ipykernel)",
   "language": "python",
   "name": "python3"
  },
  "language_info": {
   "codemirror_mode": {
    "name": "ipython",
    "version": 3
   },
   "file_extension": ".py",
   "mimetype": "text/x-python",
   "name": "python",
   "nbconvert_exporter": "python",
   "pygments_lexer": "ipython3",
   "version": "3.9.13"
  }
 },
 "nbformat": 4,
 "nbformat_minor": 5
}
