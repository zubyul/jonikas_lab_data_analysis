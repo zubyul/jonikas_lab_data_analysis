{
 "cells": [
  {
   "cell_type": "code",
   "execution_count": 3,
   "id": "5ed72446",
   "metadata": {},
   "outputs": [],
   "source": [
    "import pandas as pd\n",
    "import seaborn as sns\n",
    "import matplotlib.pyplot as plt\n",
    "plt.rcParams['figure.max_open_warning'] = 0\n",
    "import numpy as np\n",
    "from sklearn.preprocessing import StandardScaler\n",
    "scaler = StandardScaler()\n",
    "\n",
    "# for Box-Cox Transformation if I do it\n",
    "#from scipy import stats\n",
    "\n",
    "# for min_max scaling\n",
    "from mlxtend.preprocessing import minmax_scaling\n",
    "\n",
    "df3 = pd.read_table(r\"D:\\Yuliya_test_data_table\\Yuliya_test_data_table_deconv-only_3prime.txt\", delimiter = '\\t')#, nrows=2)\n",
    "df5 = pd.read_table(r\"D:\\Yuliya_test_data_table\\Yuliya_test_data_table_deconv-only.txt\", delimiter = '\\t')#, nrows=2)\n"
   ]
  },
  {
   "cell_type": "markdown",
   "id": "6d7bbdbf",
   "metadata": {},
   "source": [
    "# Process Data"
   ]
  },
  {
   "cell_type": "code",
   "execution_count": 42,
   "id": "e5ba8a79",
   "metadata": {},
   "outputs": [],
   "source": [
    "dfclean5 = df5.copy()\n",
    "#keep this order because I went through the output file individually to determine these lines\n",
    "dfclean5 = dfclean5[~dfclean5.index.isin(range(33482, 33797))] #122\n",
    "dfclean5 = dfclean5[~dfclean5.index.isin(range(34747, 35652))] #126, 127, 128\n",
    "dfclean5 = dfclean5[~dfclean5.index.isin(range(35930, 36501))] #130, 131\n",
    "dfclean5 = dfclean5[~dfclean5.index.isin(range(36770, 37054))] #133\n",
    "dfclean5 = dfclean5[~dfclean5.index.isin(range(38773, 39015))] #140\n",
    "dfclean5 = dfclean5[~dfclean5.index.isin(range(39325, 39543))] #142\n",
    "dfclean5 = dfclean5[~dfclean5.index.isin(range(40030, 40626))] #145, 146\n",
    "dfclean5 = dfclean5[~dfclean5.index.isin(range(46853, 49718))] #170, 171, 172, 173, 174, 175, 176, 177, 178, 179, 180, 181, 182\n",
    "dfclean5 = dfclean5[~(dfclean5.index >= 115849)] #the rest\n"
   ]
  },
  {
   "cell_type": "code",
   "execution_count": 43,
   "id": "5f6c50e2",
   "metadata": {},
   "outputs": [],
   "source": [
    "dfclean5_scaled = dfclean5\n",
    "#dfclean5adj_scaled = dfclean5_adjustedto_m\n",
    "columns_to_standardize = ['C15', 'C25', 'D15', 'D25', 'R15', 'R25']\n",
    "dfclean5_scaled[columns_to_standardize] = scaler.fit_transform(dfclean5[columns_to_standardize])\n",
    "#dfclean5adj_scaled[columns_to_standardize] = scaler.fit_transform(dfclean5_adjustedto_m[columns_to_standardize])"
   ]
  },
  {
   "cell_type": "code",
   "execution_count": 49,
   "id": "32d99a95",
   "metadata": {},
   "outputs": [],
   "source": [
    "droppedR_df = dfclean5_scaled\n",
    "droppedR_df['R_diff'] =abs(droppedR_df['R15']-droppedR_df['R25'])\n",
    "droppedR_df['plates'] = droppedR_df['plate'].str.extract(r'(\\d+)').astype(int)\n",
    "\n",
    "droppedR_df = droppedR_df[droppedR_df['R_diff'] <0.99]\n",
    "#print(droppedR_df)"
   ]
  },
  {
   "cell_type": "markdown",
   "id": "275ead98",
   "metadata": {},
   "source": [
    "# Compare C to R"
   ]
  },
  {
   "cell_type": "code",
   "execution_count": 45,
   "id": "4d91e483",
   "metadata": {},
   "outputs": [
    {
     "name": "stdout",
     "output_type": "stream",
     "text": [
      "Index(['IB', 'plates', 'well', 'C15', 'C25', 'R15', 'C15Difference',\n",
      "       'C25Difference'],\n",
      "      dtype='object')\n"
     ]
    },
    {
     "name": "stderr",
     "output_type": "stream",
     "text": [
      "C:\\Users\\Administrator\\AppData\\Local\\Temp\\ipykernel_15564\\246555905.py:4: SettingWithCopyWarning: \n",
      "A value is trying to be set on a copy of a slice from a DataFrame.\n",
      "Try using .loc[row_indexer,col_indexer] = value instead\n",
      "\n",
      "See the caveats in the documentation: https://pandas.pydata.org/pandas-docs/stable/user_guide/indexing.html#returning-a-view-versus-a-copy\n",
      "  C_df_R1_only['C15Difference'] = C_df_R1_only['R15'] - C_df_R1_only['C15']\n",
      "C:\\Users\\Administrator\\AppData\\Local\\Temp\\ipykernel_15564\\246555905.py:5: SettingWithCopyWarning: \n",
      "A value is trying to be set on a copy of a slice from a DataFrame.\n",
      "Try using .loc[row_indexer,col_indexer] = value instead\n",
      "\n",
      "See the caveats in the documentation: https://pandas.pydata.org/pandas-docs/stable/user_guide/indexing.html#returning-a-view-versus-a-copy\n",
      "  C_df_R1_only['C25Difference'] = C_df_R1_only['R15'] - C_df_R1_only['C25']\n",
      "C:\\Users\\Administrator\\AppData\\Local\\Temp\\ipykernel_15564\\246555905.py:9: SettingWithCopyWarning: \n",
      "A value is trying to be set on a copy of a slice from a DataFrame.\n",
      "Try using .loc[row_indexer,col_indexer] = value instead\n",
      "\n",
      "See the caveats in the documentation: https://pandas.pydata.org/pandas-docs/stable/user_guide/indexing.html#returning-a-view-versus-a-copy\n",
      "  C_df_droppedR['Ravg'] = (C_df_droppedR['R15']+C_df_droppedR['R25'])/2\n",
      "C:\\Users\\Administrator\\AppData\\Local\\Temp\\ipykernel_15564\\246555905.py:10: SettingWithCopyWarning: \n",
      "A value is trying to be set on a copy of a slice from a DataFrame.\n",
      "Try using .loc[row_indexer,col_indexer] = value instead\n",
      "\n",
      "See the caveats in the documentation: https://pandas.pydata.org/pandas-docs/stable/user_guide/indexing.html#returning-a-view-versus-a-copy\n",
      "  C_df_droppedR['C15Difference'] = (C_df_droppedR['R15']+C_df_droppedR['R25']/2) - C_df_droppedR['C15']\n"
     ]
    }
   ],
   "source": [
    "dfclean5_scaled['plates'] = dfclean5_scaled['plate'].str.extract(r'(\\d+)').astype(int)\n",
    "\n",
    "C_df_R1_only = dfclean5_scaled[['IB', 'plates', 'well', 'C15', 'C25', 'R15']]\n",
    "C_df_R1_only['C15Difference'] = C_df_R1_only['R15'] - C_df_R1_only['C15']\n",
    "C_df_R1_only['C25Difference'] = C_df_R1_only['R15'] - C_df_R1_only['C25']\n",
    "\n",
    "\n",
    "C_df_droppedR = droppedR_df[['IB', 'plates', 'well', 'C15', 'C25', 'R15', 'R25', 'R_diff']]\n",
    "C_df_droppedR['Ravg'] = (C_df_droppedR['R15']+C_df_droppedR['R25'])/2\n",
    "C_df_droppedR['C15Difference'] = (C_df_droppedR['R15']+C_df_droppedR['R25']/2) - C_df_droppedR['C15']\n",
    "C_df_droppedR['C25Difference'] = ((C_df_droppedR['R15']+C_df_droppedR['R25'])/2) - C_df_droppedR['C25']\n",
    "\n",
    "\n",
    "print(C_df_R1_only.columns)"
   ]
  },
  {
   "cell_type": "code",
   "execution_count": 46,
   "id": "3ac267f5",
   "metadata": {},
   "outputs": [],
   "source": [
    "C_df_R1_onlyg= {}\n",
    "\n",
    "for pattern, group in C_df_R1_only.groupby('plates'):\n",
    "    C_df_R1_onlyg[pattern] = group\n",
    "    #print( group.columns)\n",
    "\n",
    "C_df_droppedRg= {}\n",
    "\n",
    "for pattern, group in C_df_droppedR.groupby('plates'):\n",
    "    C_df_droppedRg[pattern] = group\n",
    "    #print( group.columns)"
   ]
  },
  {
   "cell_type": "code",
   "execution_count": 1,
   "id": "cc22f40f",
   "metadata": {},
   "outputs": [
    {
     "ename": "NameError",
     "evalue": "name 'C_df_R1_onlyg' is not defined",
     "output_type": "error",
     "traceback": [
      "\u001b[1;31m---------------------------------------------------------------------------\u001b[0m",
      "\u001b[1;31mNameError\u001b[0m                                 Traceback (most recent call last)",
      "\u001b[1;32m~\\AppData\\Local\\Temp\\ipykernel_21088\\2677688129.py\u001b[0m in \u001b[0;36m<module>\u001b[1;34m\u001b[0m\n\u001b[1;32m----> 1\u001b[1;33m \u001b[1;32mfor\u001b[0m \u001b[0mkey\u001b[0m\u001b[1;33m,\u001b[0m \u001b[0mdf\u001b[0m \u001b[1;32min\u001b[0m \u001b[0mC_df_R1_onlyg\u001b[0m\u001b[1;33m.\u001b[0m\u001b[0mitems\u001b[0m\u001b[1;33m(\u001b[0m\u001b[1;33m)\u001b[0m\u001b[1;33m:\u001b[0m\u001b[1;33m\u001b[0m\u001b[1;33m\u001b[0m\u001b[0m\n\u001b[0m\u001b[0;32m      2\u001b[0m     \u001b[0mplt\u001b[0m\u001b[1;33m.\u001b[0m\u001b[0mfigure\u001b[0m\u001b[1;33m(\u001b[0m\u001b[0mfigsize\u001b[0m\u001b[1;33m=\u001b[0m\u001b[1;33m(\u001b[0m\u001b[1;36m25\u001b[0m\u001b[1;33m,\u001b[0m \u001b[1;36m6\u001b[0m\u001b[1;33m)\u001b[0m\u001b[1;33m)\u001b[0m\u001b[1;33m\u001b[0m\u001b[1;33m\u001b[0m\u001b[0m\n\u001b[0;32m      3\u001b[0m     \u001b[0mplt\u001b[0m\u001b[1;33m.\u001b[0m\u001b[0mscatter\u001b[0m\u001b[1;33m(\u001b[0m\u001b[0mdf\u001b[0m\u001b[1;33m.\u001b[0m\u001b[0mindex\u001b[0m\u001b[1;33m,\u001b[0m \u001b[0mdf\u001b[0m\u001b[1;33m[\u001b[0m\u001b[1;34m'C15'\u001b[0m\u001b[1;33m]\u001b[0m\u001b[1;33m.\u001b[0m\u001b[0mastype\u001b[0m\u001b[1;33m(\u001b[0m\u001b[0mint\u001b[0m\u001b[1;33m)\u001b[0m\u001b[1;33m,\u001b[0m \u001b[0mlabel\u001b[0m\u001b[1;33m=\u001b[0m\u001b[1;34m'C15'\u001b[0m\u001b[1;33m)\u001b[0m\u001b[1;33m\u001b[0m\u001b[1;33m\u001b[0m\u001b[0m\n\u001b[0;32m      4\u001b[0m     \u001b[0mplt\u001b[0m\u001b[1;33m.\u001b[0m\u001b[0mscatter\u001b[0m\u001b[1;33m(\u001b[0m\u001b[0mdf\u001b[0m\u001b[1;33m.\u001b[0m\u001b[0mindex\u001b[0m\u001b[1;33m,\u001b[0m \u001b[0mdf\u001b[0m\u001b[1;33m[\u001b[0m\u001b[1;34m'C25'\u001b[0m\u001b[1;33m]\u001b[0m\u001b[1;33m.\u001b[0m\u001b[0mastype\u001b[0m\u001b[1;33m(\u001b[0m\u001b[0mint\u001b[0m\u001b[1;33m)\u001b[0m\u001b[1;33m,\u001b[0m \u001b[0mlabel\u001b[0m\u001b[1;33m=\u001b[0m\u001b[1;34m'C25'\u001b[0m\u001b[1;33m)\u001b[0m\u001b[1;33m\u001b[0m\u001b[1;33m\u001b[0m\u001b[0m\n\u001b[0;32m      5\u001b[0m     \u001b[0mplt\u001b[0m\u001b[1;33m.\u001b[0m\u001b[0mscatter\u001b[0m\u001b[1;33m(\u001b[0m\u001b[0mdf\u001b[0m\u001b[1;33m.\u001b[0m\u001b[0mindex\u001b[0m\u001b[1;33m,\u001b[0m \u001b[0mdf\u001b[0m\u001b[1;33m[\u001b[0m\u001b[1;34m'R15'\u001b[0m\u001b[1;33m]\u001b[0m\u001b[1;33m.\u001b[0m\u001b[0mastype\u001b[0m\u001b[1;33m(\u001b[0m\u001b[0mint\u001b[0m\u001b[1;33m)\u001b[0m\u001b[1;33m,\u001b[0m \u001b[0mlabel\u001b[0m\u001b[1;33m=\u001b[0m\u001b[1;34m'R15'\u001b[0m\u001b[1;33m)\u001b[0m\u001b[1;33m\u001b[0m\u001b[1;33m\u001b[0m\u001b[0m\n",
      "\u001b[1;31mNameError\u001b[0m: name 'C_df_R1_onlyg' is not defined"
     ]
    }
   ],
   "source": [
    "for key, df in C_df_R1_onlyg.items():\n",
    "    plt.figure(figsize=(25, 6))\n",
    "    plt.scatter(df.index, df['C15'].astype(int), label='C15')  \n",
    "    plt.scatter(df.index, df['C25'].astype(int), label='C25')  \n",
    "    plt.scatter(df.index, df['R15'].astype(int), label='R15')  \n",
    "    #plt.scatter(df.index, df['C15Difference'].astype(int), label='Dif. to R15')  # Convert to int and plot 'C25' column\n",
    "\n",
    "    \n",
    "    plt.xlabel('Index')  # Assuming 'well' is not a numeric column, otherwise, replace with 'well'\n",
    "    plt.ylabel('Data')\n",
    "    plt.title(f'Plot for plate {key}')\n",
    "    plt.legend()\n",
    "    plt.show()"
   ]
  },
  {
   "cell_type": "code",
   "execution_count": 2,
   "id": "b89034f9",
   "metadata": {},
   "outputs": [
    {
     "ename": "NameError",
     "evalue": "name 'C_df_droppedRg' is not defined",
     "output_type": "error",
     "traceback": [
      "\u001b[1;31m---------------------------------------------------------------------------\u001b[0m",
      "\u001b[1;31mNameError\u001b[0m                                 Traceback (most recent call last)",
      "\u001b[1;32m~\\AppData\\Local\\Temp\\ipykernel_21088\\3704684834.py\u001b[0m in \u001b[0;36m<module>\u001b[1;34m\u001b[0m\n\u001b[1;32m----> 1\u001b[1;33m \u001b[1;32mfor\u001b[0m \u001b[0mkey\u001b[0m\u001b[1;33m,\u001b[0m \u001b[0mdf\u001b[0m \u001b[1;32min\u001b[0m \u001b[0mC_df_droppedRg\u001b[0m\u001b[1;33m.\u001b[0m\u001b[0mitems\u001b[0m\u001b[1;33m(\u001b[0m\u001b[1;33m)\u001b[0m\u001b[1;33m:\u001b[0m\u001b[1;33m\u001b[0m\u001b[1;33m\u001b[0m\u001b[0m\n\u001b[0m\u001b[0;32m      2\u001b[0m     \u001b[0mplt\u001b[0m\u001b[1;33m.\u001b[0m\u001b[0mfigure\u001b[0m\u001b[1;33m(\u001b[0m\u001b[0mfigsize\u001b[0m\u001b[1;33m=\u001b[0m\u001b[1;33m(\u001b[0m\u001b[1;36m25\u001b[0m\u001b[1;33m,\u001b[0m \u001b[1;36m6\u001b[0m\u001b[1;33m)\u001b[0m\u001b[1;33m)\u001b[0m\u001b[1;33m\u001b[0m\u001b[1;33m\u001b[0m\u001b[0m\n\u001b[0;32m      3\u001b[0m     \u001b[0mplt\u001b[0m\u001b[1;33m.\u001b[0m\u001b[0mscatter\u001b[0m\u001b[1;33m(\u001b[0m\u001b[0mdf\u001b[0m\u001b[1;33m.\u001b[0m\u001b[0mindex\u001b[0m\u001b[1;33m,\u001b[0m \u001b[0mdf\u001b[0m\u001b[1;33m[\u001b[0m\u001b[1;34m'C15'\u001b[0m\u001b[1;33m]\u001b[0m\u001b[1;33m.\u001b[0m\u001b[0mastype\u001b[0m\u001b[1;33m(\u001b[0m\u001b[0mint\u001b[0m\u001b[1;33m)\u001b[0m\u001b[1;33m,\u001b[0m \u001b[0mlabel\u001b[0m\u001b[1;33m=\u001b[0m\u001b[1;34m'C15'\u001b[0m\u001b[1;33m)\u001b[0m\u001b[1;33m\u001b[0m\u001b[1;33m\u001b[0m\u001b[0m\n\u001b[0;32m      4\u001b[0m     \u001b[1;31m#plt.scatter(df.index, df['C25'].astype(int), label='C25')  # Convert to int and plot 'C15' column\u001b[0m\u001b[1;33m\u001b[0m\u001b[1;33m\u001b[0m\u001b[0m\n\u001b[0;32m      5\u001b[0m     \u001b[0mplt\u001b[0m\u001b[1;33m.\u001b[0m\u001b[0mscatter\u001b[0m\u001b[1;33m(\u001b[0m\u001b[0mdf\u001b[0m\u001b[1;33m.\u001b[0m\u001b[0mindex\u001b[0m\u001b[1;33m,\u001b[0m \u001b[0mdf\u001b[0m\u001b[1;33m[\u001b[0m\u001b[1;34m'Ravg'\u001b[0m\u001b[1;33m]\u001b[0m\u001b[1;33m.\u001b[0m\u001b[0mastype\u001b[0m\u001b[1;33m(\u001b[0m\u001b[0mint\u001b[0m\u001b[1;33m)\u001b[0m\u001b[1;33m,\u001b[0m \u001b[0mlabel\u001b[0m\u001b[1;33m=\u001b[0m\u001b[1;34m'Ravg'\u001b[0m\u001b[1;33m)\u001b[0m  \u001b[1;31m# Convert to int and plot 'C25' column\u001b[0m\u001b[1;33m\u001b[0m\u001b[1;33m\u001b[0m\u001b[0m\n",
      "\u001b[1;31mNameError\u001b[0m: name 'C_df_droppedRg' is not defined"
     ]
    }
   ],
   "source": [
    "for key, df in C_df_droppedRg.items():\n",
    "    plt.figure(figsize=(25, 6))\n",
    "    plt.scatter(df.index, df['C15'].astype(int), label='C15') \n",
    "    #plt.scatter(df.index, df['C25'].astype(int), label='C25')  # Convert to int and plot 'C15' column\n",
    "    plt.scatter(df.index, df['Ravg'].astype(int), label='Ravg')  # Convert to int and plot 'C25' column\n",
    "   # plt.scatter(df.index, df['R25'].astype(int), label='R25')  # Convert to int and plot 'C25' column\n",
    "    #plt.scatter(df.index, df['C15Difference'].astype(int), label='Difference to R')  # Convert to int and plot 'C25' column\n",
    "\n",
    "    \n",
    "    plt.xlabel('Index')  # Assuming 'well' is not a numeric column, otherwise, replace with 'well'\n",
    "    plt.ylabel('Data')\n",
    "    plt.title(f'Plot for plate {key}')\n",
    "    plt.legend()\n",
    "    plt.show()"
   ]
  },
  {
   "cell_type": "code",
   "execution_count": null,
   "id": "5e126295",
   "metadata": {},
   "outputs": [],
   "source": [
    "for key, df in C_df_R1_onlyg.items():\n",
    "    plt.figure(figsize=(10, 6))\n",
    "    plt.boxplot([df['differencetoR1']])\n",
    "    plt.title(f'Difference range for plate {key}')\n",
    "\n",
    "plt.show()"
   ]
  },
  {
   "cell_type": "code",
   "execution_count": null,
   "id": "1ea013ea",
   "metadata": {},
   "outputs": [],
   "source": [
    "for key, df in C_df_droppedRg.items():\n",
    "    plt.figure(figsize=(10, 6))\n",
    "    plt.boxplot([df['differencetoR1']])\n",
    "    plt.title(f'Difference range for plate {key}')\n",
    "\n",
    "plt.show()"
   ]
  },
  {
   "cell_type": "markdown",
   "id": "53ef45a7",
   "metadata": {},
   "source": [
    "# Compare C to C"
   ]
  },
  {
   "cell_type": "code",
   "execution_count": null,
   "id": "bf35a319",
   "metadata": {},
   "outputs": [],
   "source": []
  },
  {
   "cell_type": "markdown",
   "id": "17381c59",
   "metadata": {},
   "source": [
    "# Compare D to R"
   ]
  },
  {
   "cell_type": "code",
   "execution_count": null,
   "id": "718c521a",
   "metadata": {},
   "outputs": [],
   "source": []
  },
  {
   "cell_type": "markdown",
   "id": "f603ff20",
   "metadata": {},
   "source": [
    "# Compare D to D"
   ]
  },
  {
   "cell_type": "code",
   "execution_count": null,
   "id": "fc6cb604",
   "metadata": {},
   "outputs": [],
   "source": []
  },
  {
   "cell_type": "markdown",
   "id": "43c926e1",
   "metadata": {},
   "source": [
    "# old to new"
   ]
  },
  {
   "cell_type": "code",
   "execution_count": null,
   "id": "9c3c6617",
   "metadata": {},
   "outputs": [],
   "source": []
  }
 ],
 "metadata": {
  "kernelspec": {
   "display_name": "Python 3 (ipykernel)",
   "language": "python",
   "name": "python3"
  },
  "language_info": {
   "codemirror_mode": {
    "name": "ipython",
    "version": 3
   },
   "file_extension": ".py",
   "mimetype": "text/x-python",
   "name": "python",
   "nbconvert_exporter": "python",
   "pygments_lexer": "ipython3",
   "version": "3.9.13"
  }
 },
 "nbformat": 4,
 "nbformat_minor": 5
}
