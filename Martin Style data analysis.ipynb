{
 "cells": [
  {
   "cell_type": "code",
   "execution_count": 11,
   "id": "228316ff",
   "metadata": {},
   "outputs": [],
   "source": [
    "import pandas as pd\n",
    "import seaborn as sns\n",
    "import matplotlib.pyplot as plt\n",
    "from sklearn.preprocessing import StandardScaler\n",
    "scaler = StandardScaler()\n",
    "plt.rcParams['figure.max_open_warning'] = 0\n",
    "import numpy as np\n",
    "#import pandas as pd\n",
    "df5 = pd.read_table(r\"D:\\Yuliya_test_data_table\\Yuliya_test_data_table_deconv-only.txt\", delimiter = '\\t')#, nrows=2)\n"
   ]
  },
  {
   "cell_type": "code",
   "execution_count": 12,
   "id": "f93e619d",
   "metadata": {},
   "outputs": [],
   "source": [
    "dfclean5 = df5.copy()\n",
    "#keep this order because I went through the output file individually to determine these lines\n",
    "dfclean5 = dfclean5[~dfclean5.index.isin(range(33482, 33797))] #122\n",
    "dfclean5 = dfclean5[~dfclean5.index.isin(range(34747, 35652))] #126, 127, 128\n",
    "dfclean5 = dfclean5[~dfclean5.index.isin(range(35930, 36501))] #130, 131\n",
    "dfclean5 = dfclean5[~dfclean5.index.isin(range(36770, 37054))] #133\n",
    "dfclean5 = dfclean5[~dfclean5.index.isin(range(38773, 39015))] #140\n",
    "dfclean5 = dfclean5[~dfclean5.index.isin(range(39325, 39543))] #142\n",
    "dfclean5 = dfclean5[~dfclean5.index.isin(range(40030, 40626))] #145, 146\n",
    "dfclean5 = dfclean5[~dfclean5.index.isin(range(46853, 49718))] #170, 171, 172, 173, 174, 175, 176, 177, 178, 179, 180, 181, 182\n",
    "dfclean5 = dfclean5[~(dfclean5.index >= 115849)] #the rest\n",
    "\n",
    "pd.set_option('display.max_rows', None)  # Show all rows\n",
    "pd.set_option('display.max_columns', None)  # Show all columns\n",
    "pd.set_option('display.width', None)  # Disable column width wrapping\n",
    "\n",
    "# Print the entire dataframe\n",
    "#print(dfclean5)\n",
    "#dfclean2.to_excel('C:/Users/Administrator/Desktop/dfclean5.xlsx', index=False)"
   ]
  },
  {
   "cell_type": "code",
   "execution_count": 1,
   "id": "21257c1b",
   "metadata": {},
   "outputs": [
    {
     "ename": "NameError",
     "evalue": "name 'dfclean5' is not defined",
     "output_type": "error",
     "traceback": [
      "\u001b[1;31m---------------------------------------------------------------------------\u001b[0m",
      "\u001b[1;31mNameError\u001b[0m                                 Traceback (most recent call last)",
      "\u001b[1;32m~\\AppData\\Local\\Temp\\ipykernel_20000\\1726713942.py\u001b[0m in \u001b[0;36m<module>\u001b[1;34m\u001b[0m\n\u001b[0;32m      1\u001b[0m \u001b[0mgroupedraw5\u001b[0m\u001b[1;33m=\u001b[0m \u001b[1;33m{\u001b[0m\u001b[1;33m}\u001b[0m\u001b[1;33m\u001b[0m\u001b[1;33m\u001b[0m\u001b[0m\n\u001b[1;32m----> 2\u001b[1;33m \u001b[0mdfclean5\u001b[0m\u001b[1;33m[\u001b[0m\u001b[1;34m'plates'\u001b[0m\u001b[1;33m]\u001b[0m \u001b[1;33m=\u001b[0m \u001b[0mdfclean5\u001b[0m\u001b[1;33m[\u001b[0m\u001b[1;34m'plate'\u001b[0m\u001b[1;33m]\u001b[0m\u001b[1;33m.\u001b[0m\u001b[0mstr\u001b[0m\u001b[1;33m.\u001b[0m\u001b[0mextract\u001b[0m\u001b[1;33m(\u001b[0m\u001b[1;34mr'(\\d+)'\u001b[0m\u001b[1;33m)\u001b[0m\u001b[1;33m.\u001b[0m\u001b[0mastype\u001b[0m\u001b[1;33m(\u001b[0m\u001b[0mint\u001b[0m\u001b[1;33m)\u001b[0m\u001b[1;33m\u001b[0m\u001b[1;33m\u001b[0m\u001b[0m\n\u001b[0m\u001b[0;32m      3\u001b[0m \u001b[1;33m\u001b[0m\u001b[0m\n\u001b[0;32m      4\u001b[0m \u001b[1;32mfor\u001b[0m \u001b[0mpattern\u001b[0m\u001b[1;33m,\u001b[0m \u001b[0mgroup\u001b[0m \u001b[1;32min\u001b[0m \u001b[0mdfclean5\u001b[0m\u001b[1;33m.\u001b[0m\u001b[0mgroupby\u001b[0m\u001b[1;33m(\u001b[0m\u001b[1;34m'plates'\u001b[0m\u001b[1;33m)\u001b[0m\u001b[1;33m:\u001b[0m\u001b[1;33m\u001b[0m\u001b[1;33m\u001b[0m\u001b[0m\n\u001b[0;32m      5\u001b[0m     \u001b[0mgroupedraw5\u001b[0m\u001b[1;33m[\u001b[0m\u001b[0mpattern\u001b[0m\u001b[1;33m]\u001b[0m \u001b[1;33m=\u001b[0m \u001b[0mgroup\u001b[0m\u001b[1;33m\u001b[0m\u001b[1;33m\u001b[0m\u001b[0m\n",
      "\u001b[1;31mNameError\u001b[0m: name 'dfclean5' is not defined"
     ]
    }
   ],
   "source": [
    "groupedraw5= {}\n",
    "dfclean5['plates'] = dfclean5['plate'].str.extract(r'(\\d+)').astype(int)\n",
    "\n",
    "for pattern, group in dfclean5.groupby('plates'):\n",
    "    groupedraw5[pattern] = group\n",
    "    \n",
    "for key, df in groupedraw5.items():\n",
    "    plt.figure(figsize=(25, 6))\n",
    "    #plt.scatter(df.index, df['ratio RR'].astype(int), label='ratio RR')  \n",
    "    plt.scatter(df.index, df['C15'].astype(int), label='C15')  \n",
    "    plt.scatter(df.index, df['C25'].astype(int), label='C25')  \n",
    "    plt.scatter(df.index, df['R15'].astype(int), label='R15')  \n",
    "\n",
    "    #plt.scatter(df.index, df['C15Difference'].astype(int), label='Dif. to R15')  # Convert to int and plot 'C25' column\n",
    "\n",
    "    \n",
    "   # plt.xlabel('Index')  # Assuming 'well' is not a numeric column, otherwise, replace with 'well'\n",
    "   # plt.ylabel('Data')\n",
    "   # plt.title(f'Plot for plate {key}')\n",
    "   # plt.legend()\n",
    "   # plt.show()"
   ]
  },
  {
   "cell_type": "code",
   "execution_count": 19,
   "id": "f4a9d6a5",
   "metadata": {},
   "outputs": [],
   "source": [
    "Mclean5 = dfclean5.copy()\n",
    "\n",
    "columns_to_check = ['C15', 'C25', 'D15', 'D25', 'R15', 'R25']\n",
    "\n",
    "\n",
    "for column in columns_to_check:\n",
    "    Mclean5[column] = Mclean5[column].apply(lambda x: x if x >= 200 else 0)\n",
    "    \n",
    "Mclean5 = Mclean5[~(Mclean5[columns_to_check] < 200).all(axis=1)]\n",
    "\n",
    "    \n",
    "#print(Mclean5)"
   ]
  },
  {
   "cell_type": "code",
   "execution_count": 20,
   "id": "eccebff6",
   "metadata": {},
   "outputs": [],
   "source": [
    "adjusted5= Mclean5.copy()\n",
    "numeric_columns = adjusted5.select_dtypes(include=[np.number]).columns\n",
    "\n",
    "# Calculate z-scores and adjust outliers to the mean\n",
    "numeric_columns = adjusted5.select_dtypes(include=[np.number]).columns\n",
    "\n",
    "# Adjust outliers to the mean\n",
    "for col in numeric_columns:\n",
    "    mean = adjusted5[col].mean()\n",
    "    std = adjusted5[col].std()\n",
    "    z_scores = (adjusted5[col] - mean) / std\n",
    "    \n",
    "    # Replace outliers (threshold: 3 standard deviations from the mean) with the mean\n",
    "    outlier_threshold = 20.0\n",
    "    adjusted5[col] = np.where(np.abs(z_scores) > outlier_threshold, mean, adjusted5[col])\n",
    "    adjusted5[col] =  adjusted5[col].astype(int)\n",
    "#print(dfclean3_adjustedto_m)"
   ]
  },
  {
   "cell_type": "code",
   "execution_count": 21,
   "id": "0533c566",
   "metadata": {},
   "outputs": [],
   "source": [
    "Mclean5_scaled = adjusted5\n",
    "columns_to_standardize = ['C15', 'C25', 'D15', 'D25', 'R15', 'R25']\n",
    "Mclean5_scaled[columns_to_standardize] = scaler.fit_transform(Mclean5[columns_to_standardize])\n"
   ]
  },
  {
   "cell_type": "markdown",
   "id": "95bedfaa",
   "metadata": {},
   "source": [
    "martin wants: \n",
    "\n",
    "ratio of regular air to high co2 \n",
    "\n",
    "+plot that against other replicate\n",
    "\n",
    "+light vs dark\n"
   ]
  },
  {
   "cell_type": "code",
   "execution_count": 22,
   "id": "420fb537",
   "metadata": {},
   "outputs": [],
   "source": [
    "Mclean5_scaled['ratio RR'] =Mclean5_scaled['R15']//Mclean5_scaled['R25']\n",
    "Mclean5_scaled['ratio C1R1'] =Mclean5_scaled['R15']//Mclean5_scaled['C15']\n",
    "Mclean5_scaled['ratio C1R2'] =Mclean5_scaled['R15']//Mclean5_scaled['C25']\n",
    "Mclean5_scaled['ratio C2R1'] =Mclean5_scaled['R25']//Mclean5_scaled['C15']\n",
    "Mclean5_scaled['ratio C2R2'] =Mclean5_scaled['R25']//Mclean5_scaled['C25']\n",
    "\n",
    "Mclean5_scaled['ratio D1R1'] =Mclean5_scaled['D15']//Mclean5_scaled['R15']\n",
    "Mclean5_scaled['ratio D2R1'] =Mclean5_scaled['D25']//Mclean5_scaled['R15']\n",
    "Mclean5_scaled = Mclean5_scaled.replace([np.inf, -np.inf], 0).dropna()\n",
    "\n",
    "\n",
    "#print(Mclean5_scaled)"
   ]
  },
  {
   "cell_type": "code",
   "execution_count": 23,
   "id": "0317e3cd",
   "metadata": {},
   "outputs": [],
   "source": [
    "grouped5= {}\n",
    "\n",
    "for pattern, group in Mclean5_scaled.groupby('plates'):\n",
    "    grouped5[pattern] = group\n"
   ]
  },
  {
   "cell_type": "code",
   "execution_count": 2,
   "id": "049759d8",
   "metadata": {},
   "outputs": [
    {
     "ename": "NameError",
     "evalue": "name 'grouped5' is not defined",
     "output_type": "error",
     "traceback": [
      "\u001b[1;31m---------------------------------------------------------------------------\u001b[0m",
      "\u001b[1;31mNameError\u001b[0m                                 Traceback (most recent call last)",
      "\u001b[1;32m~\\AppData\\Local\\Temp\\ipykernel_20000\\2855840478.py\u001b[0m in \u001b[0;36m<module>\u001b[1;34m\u001b[0m\n\u001b[1;32m----> 1\u001b[1;33m \u001b[1;32mfor\u001b[0m \u001b[0mkey\u001b[0m\u001b[1;33m,\u001b[0m \u001b[0mdf\u001b[0m \u001b[1;32min\u001b[0m \u001b[0mgrouped5\u001b[0m\u001b[1;33m.\u001b[0m\u001b[0mitems\u001b[0m\u001b[1;33m(\u001b[0m\u001b[1;33m)\u001b[0m\u001b[1;33m:\u001b[0m\u001b[1;33m\u001b[0m\u001b[1;33m\u001b[0m\u001b[0m\n\u001b[0m\u001b[0;32m      2\u001b[0m     \u001b[0mplt\u001b[0m\u001b[1;33m.\u001b[0m\u001b[0mfigure\u001b[0m\u001b[1;33m(\u001b[0m\u001b[0mfigsize\u001b[0m\u001b[1;33m=\u001b[0m\u001b[1;33m(\u001b[0m\u001b[1;36m25\u001b[0m\u001b[1;33m,\u001b[0m \u001b[1;36m6\u001b[0m\u001b[1;33m)\u001b[0m\u001b[1;33m)\u001b[0m\u001b[1;33m\u001b[0m\u001b[1;33m\u001b[0m\u001b[0m\n\u001b[0;32m      3\u001b[0m     \u001b[1;31m#plt.scatter(df.index, df['ratio C1R1'].astype(int), label='ratio C1R1')\u001b[0m\u001b[1;33m\u001b[0m\u001b[1;33m\u001b[0m\u001b[0m\n\u001b[0;32m      4\u001b[0m     \u001b[1;31m#plt.scatter(df.index, df['ratio C2R1'].astype(int), label='ratio C2R1')\u001b[0m\u001b[1;33m\u001b[0m\u001b[1;33m\u001b[0m\u001b[0m\n\u001b[0;32m      5\u001b[0m     \u001b[0mplt\u001b[0m\u001b[1;33m.\u001b[0m\u001b[0mscatter\u001b[0m\u001b[1;33m(\u001b[0m\u001b[0mdf\u001b[0m\u001b[1;33m.\u001b[0m\u001b[0mindex\u001b[0m\u001b[1;33m,\u001b[0m \u001b[0mdf\u001b[0m\u001b[1;33m[\u001b[0m\u001b[1;34m'ratio C1R1'\u001b[0m\u001b[1;33m]\u001b[0m\u001b[1;33m.\u001b[0m\u001b[0mastype\u001b[0m\u001b[1;33m(\u001b[0m\u001b[0mint\u001b[0m\u001b[1;33m)\u001b[0m\u001b[1;33m,\u001b[0m \u001b[0mlabel\u001b[0m\u001b[1;33m=\u001b[0m\u001b[1;34m'ratio R1C1'\u001b[0m\u001b[1;33m)\u001b[0m\u001b[1;33m\u001b[0m\u001b[1;33m\u001b[0m\u001b[0m\n",
      "\u001b[1;31mNameError\u001b[0m: name 'grouped5' is not defined"
     ]
    }
   ],
   "source": [
    "for key, df in grouped5.items():\n",
    "    plt.figure(figsize=(25, 6)) \n",
    "    #plt.scatter(df.index, df['ratio C1R1'].astype(int), label='ratio C1R1')  \n",
    "    #plt.scatter(df.index, df['ratio C2R1'].astype(int), label='ratio C2R1')  \n",
    "    plt.scatter(df.index, df['ratio C1R1'].astype(int), label='ratio R1C1')\n",
    "    plt.scatter(df.index, df['ratio C2R2'].astype(int), label='ratio R2C2')\n",
    "    \n",
    "    plt.xlabel('Index')  # Assuming 'well' is not a numeric column, otherwise, replace with 'well'\n",
    "    plt.ylabel('Data')\n",
    "    plt.title(f'Plot for plate {key}')\n",
    "    plt.legend()\n",
    "    plt.show()"
   ]
  },
  {
   "cell_type": "code",
   "execution_count": null,
   "id": "f8f10756",
   "metadata": {},
   "outputs": [],
   "source": [
    "Mclean5['ratio RR'] =Mclean5['R15']//Mclean5['R25']\n",
    "Mclean5['ratio C1R1'] =Mclean5['C15']//Mclean5['R15']\n",
    "Mclean5['ratio C1R2'] =Mclean5['C15']//Mclean5['R25']\n",
    "Mclean5['ratio C2R1'] =Mclean5['C25']//Mclean5['R15']\n",
    "Mclean5['ratio C2R2'] =Mclean5['C25']//Mclean5['R25']\n",
    "Mclean5['plates'] = Mclean5['plate'].str.extract(r'(\\d+)').astype(int)\n",
    "Mclean5 = Mclean5.replace([np.inf, -np.inf], 0).dropna()\n",
    "\n",
    "\n",
    "#print(Mclean5)"
   ]
  },
  {
   "cell_type": "code",
   "execution_count": null,
   "id": "d7b7eefd",
   "metadata": {},
   "outputs": [],
   "source": [
    "grouped5f= {}\n",
    "\n",
    "for pattern, group in Mclean5.groupby('plates'):\n",
    "    grouped5f[pattern] = group"
   ]
  },
  {
   "cell_type": "code",
   "execution_count": 25,
   "id": "bf0feef5",
   "metadata": {},
   "outputs": [
    {
     "ename": "NameError",
     "evalue": "name 'grouped5f' is not defined",
     "output_type": "error",
     "traceback": [
      "\u001b[1;31m---------------------------------------------------------------------------\u001b[0m",
      "\u001b[1;31mNameError\u001b[0m                                 Traceback (most recent call last)",
      "\u001b[1;32m~\\AppData\\Local\\Temp\\ipykernel_19432\\1168969533.py\u001b[0m in \u001b[0;36m<module>\u001b[1;34m\u001b[0m\n\u001b[1;32m----> 1\u001b[1;33m \u001b[1;32mfor\u001b[0m \u001b[0mkey\u001b[0m\u001b[1;33m,\u001b[0m \u001b[0mdf\u001b[0m \u001b[1;32min\u001b[0m \u001b[0mgrouped5f\u001b[0m\u001b[1;33m.\u001b[0m\u001b[0mitems\u001b[0m\u001b[1;33m(\u001b[0m\u001b[1;33m)\u001b[0m\u001b[1;33m:\u001b[0m\u001b[1;33m\u001b[0m\u001b[1;33m\u001b[0m\u001b[0m\n\u001b[0m\u001b[0;32m      2\u001b[0m     \u001b[0mplt\u001b[0m\u001b[1;33m.\u001b[0m\u001b[0mfigure\u001b[0m\u001b[1;33m(\u001b[0m\u001b[0mfigsize\u001b[0m\u001b[1;33m=\u001b[0m\u001b[1;33m(\u001b[0m\u001b[1;36m25\u001b[0m\u001b[1;33m,\u001b[0m \u001b[1;36m6\u001b[0m\u001b[1;33m)\u001b[0m\u001b[1;33m)\u001b[0m\u001b[1;33m\u001b[0m\u001b[1;33m\u001b[0m\u001b[0m\n\u001b[0;32m      3\u001b[0m     \u001b[1;31m#plt.scatter(df.index, df['ratio RR'].astype(int), label='ratio RR')\u001b[0m\u001b[1;33m\u001b[0m\u001b[1;33m\u001b[0m\u001b[0m\n\u001b[0;32m      4\u001b[0m     \u001b[0mplt\u001b[0m\u001b[1;33m.\u001b[0m\u001b[0mscatter\u001b[0m\u001b[1;33m(\u001b[0m\u001b[0mdf\u001b[0m\u001b[1;33m.\u001b[0m\u001b[0mindex\u001b[0m\u001b[1;33m,\u001b[0m \u001b[0mdf\u001b[0m\u001b[1;33m[\u001b[0m\u001b[1;34m'ratio C1R1'\u001b[0m\u001b[1;33m]\u001b[0m\u001b[1;33m.\u001b[0m\u001b[0mastype\u001b[0m\u001b[1;33m(\u001b[0m\u001b[0mint\u001b[0m\u001b[1;33m)\u001b[0m\u001b[1;33m,\u001b[0m \u001b[0mlabel\u001b[0m\u001b[1;33m=\u001b[0m\u001b[1;34m'ratio C1R1'\u001b[0m\u001b[1;33m)\u001b[0m\u001b[1;33m\u001b[0m\u001b[1;33m\u001b[0m\u001b[0m\n\u001b[0;32m      5\u001b[0m     \u001b[0mplt\u001b[0m\u001b[1;33m.\u001b[0m\u001b[0mscatter\u001b[0m\u001b[1;33m(\u001b[0m\u001b[0mdf\u001b[0m\u001b[1;33m.\u001b[0m\u001b[0mindex\u001b[0m\u001b[1;33m,\u001b[0m \u001b[0mdf\u001b[0m\u001b[1;33m[\u001b[0m\u001b[1;34m'ratio C2R1'\u001b[0m\u001b[1;33m]\u001b[0m\u001b[1;33m.\u001b[0m\u001b[0mastype\u001b[0m\u001b[1;33m(\u001b[0m\u001b[0mint\u001b[0m\u001b[1;33m)\u001b[0m\u001b[1;33m,\u001b[0m \u001b[0mlabel\u001b[0m\u001b[1;33m=\u001b[0m\u001b[1;34m'ratio C2R1'\u001b[0m\u001b[1;33m)\u001b[0m\u001b[1;33m\u001b[0m\u001b[1;33m\u001b[0m\u001b[0m\n",
      "\u001b[1;31mNameError\u001b[0m: name 'grouped5f' is not defined"
     ]
    }
   ],
   "source": [
    "for key, df in grouped5f.items():\n",
    "    plt.figure(figsize=(25, 6))\n",
    "    #plt.scatter(df.index, df['ratio RR'].astype(int), label='ratio RR')  \n",
    "    plt.scatter(df.index, df['ratio C1R1'].astype(int), label='ratio C1R1')  \n",
    "    plt.scatter(df.index, df['ratio C2R1'].astype(int), label='ratio C2R1')  \n",
    "    #plt.scatter(df.index, df['C15Difference'].astype(int), label='Dif. to R15')  # Convert to int and plot 'C25' column  \n",
    "    plt.xlabel('Index')  # Assuming 'well' is not a numeric column, otherwise, replace with 'well'\n",
    "    plt.ylabel('Data')\n",
    "    plt.title(f'Plot for plate {key}')\n",
    "    plt.legend()\n",
    "    plt.show()"
   ]
  },
  {
   "cell_type": "code",
   "execution_count": null,
   "id": "29fc3d44",
   "metadata": {},
   "outputs": [],
   "source": [
    "for key, df in grouped5f.items():\n",
    "    plt.figure(figsize=(25, 6))\n",
    "    #plt.scatter(df.index, df['ratio RR'].astype(int), label='ratio RR')  \n",
    "    plt.scatter(df.index, df['C15'].astype(int), label='C15')  \n",
    "    plt.scatter(df.index, df['C25'].astype(int), label='C25')  \n",
    "    plt.scatter(df.index, df['R15'].astype(int), label='R15')  \n",
    "\n",
    "    #plt.scatter(df.index, df['C15Difference'].astype(int), label='Dif. to R15')  # Convert to int and plot 'C25' column\n",
    "\n",
    "    \n",
    "  #  plt.xlabel('Index')  # Assuming 'well' is not a numeric column, otherwise, replace with 'well'\n",
    "   # plt.ylabel('Data')\n",
    "   # plt.title(f'Plot for plate {key}')\n",
    "    #plt.legend()\n",
    "    #plt.show()"
   ]
  },
  {
   "cell_type": "code",
   "execution_count": null,
   "id": "311d1c7d",
   "metadata": {},
   "outputs": [],
   "source": [
    "one_wk = Mclean5.iloc[:150]  \n",
    "two_wk = Mclean5.iloc[150:300]   \n",
    "one_wkadj = adjusted5.iloc[:150]  \n",
    "two_wkadj = adjusted5.iloc[150:300]   \n",
    "one_wkraw = dfclean5.iloc[:150] \n",
    "two_wkraw= dfclean5.iloc[150:300] "
   ]
  },
  {
   "cell_type": "code",
   "execution_count": null,
   "id": "37c6959b",
   "metadata": {},
   "outputs": [],
   "source": [
    "\n",
    "columns_to_compare = ['C15', 'D25', 'C25', 'D15', 'R15', 'R25']\n",
    "\n",
    "# Combine the data from all DataFrames for box plotting\n",
    "all_dataone = [one_wk[col] for col in columns_to_compare]\n",
    "all_datatwo = [two_wk[col] for col in columns_to_compare]\n",
    "all_dataoneadj = [one_wkadj[col] for col in columns_to_compare]\n",
    "all_datatwoadj = [two_wkadj[col] for col in columns_to_compare]\n",
    "raw1 = [one_wkraw[col] for col in columns_to_compare]\n",
    "raw2 = [two_wkraw[col] for col in columns_to_compare]\n",
    "\n",
    "labels = columns_to_compare\n",
    "\n",
    "fig, axs = plt.subplots(3, 2, figsize=(12, 15))\n",
    "plt.subplots_adjust(hspace=0.4)\n",
    "\n",
    "# Adjust vertical spacing between subplots\n",
    "\n",
    "axs[0, 0].boxplot(all_dataone)\n",
    "axs[0, 0].set_title('Box Plot for one_wk')\n",
    "axs[0, 0].set_xticklabels(labels)\n",
    "axs[0, 0].set_ylabel('Value')\n",
    "\n",
    "axs[0, 1].boxplot(all_datatwo)\n",
    "axs[0, 1].set_title('Box Plot for two_wk')\n",
    "axs[0, 1].set_xticklabels(labels)\n",
    "axs[0, 1].set_ylabel('Value')\n",
    "\n",
    "axs[1, 0].boxplot(all_dataoneadj)\n",
    "axs[1, 0].set_title('Box Plot for one_wkadj')\n",
    "axs[1, 0].set_xticklabels(labels)\n",
    "axs[1, 0].set_ylabel('Value')\n",
    "\n",
    "axs[1, 1].boxplot(all_datatwoadj)\n",
    "axs[1, 1].set_title('Box Plot for two_wkadj')\n",
    "axs[1, 1].set_xticklabels(labels)\n",
    "axs[1, 1].set_ylabel('Value')\n",
    "\n",
    "axs[2, 0].boxplot(raw1)\n",
    "axs[2, 0].set_title('Box Plot for one_wk raw')\n",
    "axs[2, 0].set_xticklabels(labels)\n",
    "axs[2, 0].set_ylabel('Value')\n",
    "\n",
    "axs[2, 1].boxplot(raw2)\n",
    "axs[2, 1].set_title('Box Plot for two_wk raw')\n",
    "axs[2, 1].set_xticklabels(labels)\n",
    "axs[2, 1].set_ylabel('Value')\n",
    "\n",
    "plt.show()\n"
   ]
  },
  {
   "cell_type": "code",
   "execution_count": null,
   "id": "e38676f4",
   "metadata": {},
   "outputs": [],
   "source": [
    "droppedR_df = Mclean5_scaled.copy()\n",
    "droppedR_df['R_diff'] =droppedR_df['R15']-droppedR_df['R25']\n",
    "\n",
    "\n",
    "droppedR_df = droppedR_df[droppedR_df['R_diff'] <1]\n",
    "droppedR_df = droppedR_df[droppedR_df['R_diff'] >-1]\n",
    "#print( droppedR_df)"
   ]
  },
  {
   "cell_type": "code",
   "execution_count": null,
   "id": "fa2de288",
   "metadata": {},
   "outputs": [],
   "source": [
    "droppedR_df['ratio RR'] =droppedR_df['R15']//droppedR_df['R25']\n",
    "droppedR_df['ratio C1R1'] =droppedR_df['C15']//droppedR_df['R15']\n",
    "droppedR_df['ratio C1R2'] =droppedR_df['C15']//droppedR_df['R25']\n",
    "droppedR_df['ratio C2R1'] =droppedR_df['C25']//droppedR_df['R15']\n",
    "droppedR_df['ratio C2R2'] =droppedR_df['C25']//droppedR_df['R25']\n",
    "droppedR_df['plates'] = droppedR_df['plate'].str.extract(r'(\\d+)').astype(int)\n",
    "droppedR_df = droppedR_df.replace([np.inf, -np.inf], 0).dropna()"
   ]
  },
  {
   "cell_type": "code",
   "execution_count": 24,
   "id": "cea2359c",
   "metadata": {},
   "outputs": [
    {
     "ename": "NameError",
     "evalue": "name 'droppedR_df' is not defined",
     "output_type": "error",
     "traceback": [
      "\u001b[1;31m---------------------------------------------------------------------------\u001b[0m",
      "\u001b[1;31mNameError\u001b[0m                                 Traceback (most recent call last)",
      "\u001b[1;32m~\\AppData\\Local\\Temp\\ipykernel_19432\\3701165326.py\u001b[0m in \u001b[0;36m<module>\u001b[1;34m\u001b[0m\n\u001b[0;32m      1\u001b[0m \u001b[0mdroppedR_dfgroups\u001b[0m \u001b[1;33m=\u001b[0m \u001b[1;33m{\u001b[0m\u001b[1;33m}\u001b[0m\u001b[1;33m\u001b[0m\u001b[1;33m\u001b[0m\u001b[0m\n\u001b[1;32m----> 2\u001b[1;33m \u001b[1;32mfor\u001b[0m \u001b[0mpattern\u001b[0m\u001b[1;33m,\u001b[0m \u001b[0mgroup\u001b[0m \u001b[1;32min\u001b[0m \u001b[0mdroppedR_df\u001b[0m\u001b[1;33m.\u001b[0m\u001b[0mgroupby\u001b[0m\u001b[1;33m(\u001b[0m\u001b[1;34m'plates'\u001b[0m\u001b[1;33m)\u001b[0m\u001b[1;33m:\u001b[0m\u001b[1;33m\u001b[0m\u001b[1;33m\u001b[0m\u001b[0m\n\u001b[0m\u001b[0;32m      3\u001b[0m     \u001b[0mdroppedR_dfgroups\u001b[0m\u001b[1;33m[\u001b[0m\u001b[0mpattern\u001b[0m\u001b[1;33m]\u001b[0m \u001b[1;33m=\u001b[0m \u001b[0mgroup\u001b[0m\u001b[1;33m\u001b[0m\u001b[1;33m\u001b[0m\u001b[0m\n\u001b[0;32m      4\u001b[0m \u001b[1;31m#    print( group.columns)\u001b[0m\u001b[1;33m\u001b[0m\u001b[1;33m\u001b[0m\u001b[0m\n",
      "\u001b[1;31mNameError\u001b[0m: name 'droppedR_df' is not defined"
     ]
    }
   ],
   "source": [
    "droppedR_dfgroups = {}\n",
    "for pattern, group in droppedR_df.groupby('plates'):\n",
    "    droppedR_dfgroups[pattern] = group\n",
    "#    print( group.columns)"
   ]
  },
  {
   "cell_type": "code",
   "execution_count": null,
   "id": "34bccba4",
   "metadata": {},
   "outputs": [],
   "source": [
    "for key, df in droppedR_dfgroups.items():\n",
    "    plt.figure(figsize=(25, 6))\n",
    "    #plt.scatter(df.index, df['ratio RR'].astype(int), label='ratio RR')  \n",
    "    plt.scatter(df.index, df['ratio C1R1'].astype(int), label='ratio R1C1')  \n",
    "    plt.scatter(df.index, df['ratio C2R1'].astype(int), label='ratio R1C1')  \n",
    "    #plt.scatter(df.index, df['C15Difference'].astype(int), label='Dif. to R15')  # Convert to int and plot 'C25' column\n",
    "\n",
    "    \n",
    "    plt.xlabel('Index')  # Assuming 'well' is not a numeric column, otherwise, replace with 'well'\n",
    "    plt.ylabel('Data')\n",
    "    plt.title(f'Plot for plate {key}')\n",
    "    plt.legend()\n",
    "    plt.show()"
   ]
  },
  {
   "cell_type": "code",
   "execution_count": null,
   "id": "7a4def46",
   "metadata": {},
   "outputs": [],
   "source": []
  }
 ],
 "metadata": {
  "kernelspec": {
   "display_name": "Python 3 (ipykernel)",
   "language": "python",
   "name": "python3"
  },
  "language_info": {
   "codemirror_mode": {
    "name": "ipython",
    "version": 3
   },
   "file_extension": ".py",
   "mimetype": "text/x-python",
   "name": "python",
   "nbconvert_exporter": "python",
   "pygments_lexer": "ipython3",
   "version": "3.9.13"
  }
 },
 "nbformat": 4,
 "nbformat_minor": 5
}
