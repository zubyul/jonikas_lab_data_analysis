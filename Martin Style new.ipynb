{
 "cells": [
  {
   "cell_type": "code",
   "execution_count": 2,
   "id": "2b4a2245",
   "metadata": {},
   "outputs": [],
   "source": [
    "import pandas as pd\n",
    "import seaborn as sns\n",
    "import matplotlib.pyplot as plt\n",
    "from sklearn.preprocessing import StandardScaler\n",
    "scaler = StandardScaler()\n",
    "plt.rcParams['figure.max_open_warning'] = 0\n",
    "import numpy as np\n",
    "#import pandas as pd\n",
    "df5 = pd.read_table(r\"D:\\Yuliya_test_data_table\\Yuliya_test_data_table_deconv-only.txt\", delimiter = '\\t')#, nrows=2)\n"
   ]
  },
  {
   "cell_type": "code",
   "execution_count": 8,
   "id": "5f658718",
   "metadata": {},
   "outputs": [],
   "source": [
    "dfclean5 = df5.copy()\n",
    "dfclean5['plates'] = dfclean5['plate'].str.extract(r'(\\d+)').astype(int)\n",
    "#keep this order because I went through the output file individually to determine these lines\n",
    "dfclean5 = dfclean5[~dfclean5.index.isin(range(33482, 33797))] #122\n",
    "dfclean5 = dfclean5[~dfclean5.index.isin(range(34747, 35652))] #126, 127, 128\n",
    "dfclean5 = dfclean5[~dfclean5.index.isin(range(35930, 36501))] #130, 131\n",
    "dfclean5 = dfclean5[~dfclean5.index.isin(range(36770, 37054))] #133\n",
    "dfclean5 = dfclean5[~dfclean5.index.isin(range(38773, 39015))] #140\n",
    "dfclean5 = dfclean5[~dfclean5.index.isin(range(39325, 39543))] #142\n",
    "dfclean5 = dfclean5[~dfclean5.index.isin(range(40030, 40626))] #145, 146\n",
    "dfclean5 = dfclean5[~dfclean5.index.isin(range(46853, 49718))] #170, 171, 172, 173, 174, 175, 176, 177, 178, 179, 180, 181, 182\n",
    "dfclean5 = dfclean5[~(dfclean5.index >= 115849)] #the rest\n",
    "\n",
    "pd.set_option('display.max_rows', None)  # Show all rows\n",
    "pd.set_option('display.max_columns', None)  # Show all columns\n",
    "pd.set_option('display.width', None)  # Disable column width wrapping"
   ]
  },
  {
   "cell_type": "code",
   "execution_count": 9,
   "id": "fe2eec32",
   "metadata": {},
   "outputs": [],
   "source": [
    "Mclean5 = dfclean5.copy()\n",
    "\n",
    "columns_to_check = ['C15', 'C25', 'D15', 'D25', 'R15', 'R25']\n",
    "\n",
    "\n",
    "for column in columns_to_check:\n",
    "    Mclean5[column] = Mclean5[column].apply(lambda x: x if x >= 200 else 0)\n",
    "    \n",
    "Mclean5 = Mclean5[~(Mclean5[columns_to_check] < 200).all(axis=1)]\n"
   ]
  },
  {
   "cell_type": "code",
   "execution_count": 15,
   "id": "cb510dda",
   "metadata": {},
   "outputs": [],
   "source": [
    "adjusted5= Mclean5.copy()\n",
    "numeric_columns = adjusted5.select_dtypes(include=[np.number]).columns\n",
    "\n",
    "# Calculate z-scores and adjust outliers to the mean\n",
    "numeric_columns = adjusted5.select_dtypes(include=[np.number]).columns\n",
    "\n",
    "# Adjust outliers to the mean\n",
    "for col in numeric_columns:\n",
    "    mean = adjusted5[col].mean()\n",
    "    std = adjusted5[col].std()\n",
    "    z_scores = (adjusted5[col] - mean) / std\n",
    "    \n",
    "    # Replace outliers (threshold: 3 standard deviations from the mean) with the mean\n",
    "    outlier_threshold = 20.0\n",
    "    adjusted5[col] = np.where(np.abs(z_scores) > outlier_threshold, mean, adjusted5[col])\n",
    "    adjusted5[col] =  adjusted5[col].astype(int)\n",
    "#print(dfclean3_adjustedto_m)"
   ]
  },
  {
   "cell_type": "code",
   "execution_count": 16,
   "id": "c9a2a6f8",
   "metadata": {},
   "outputs": [],
   "source": [
    "Mclean5_scaled = adjusted5.copy()\n",
    "columns_to_standardize = ['C15', 'C25', 'D15', 'D25', 'R15', 'R25']\n",
    "Mclean5_scaled[columns_to_standardize] = scaler.fit_transform(Mclean5[columns_to_standardize])\n"
   ]
  },
  {
   "cell_type": "code",
   "execution_count": null,
   "id": "0d336dae",
   "metadata": {},
   "outputs": [],
   "source": []
  },
  {
   "cell_type": "code",
   "execution_count": 39,
   "id": "86c09903",
   "metadata": {},
   "outputs": [],
   "source": [
    "Mclean5_scaled['ratio RR'] =Mclean5_scaled['R15']//Mclean5_scaled['R25']\n",
    "\n",
    "Mclean5_scaled['ratio R1C1'] =Mclean5_scaled['R15']//Mclean5_scaled['C15']\n",
    "Mclean5_scaled['ratio R1C2'] =Mclean5_scaled['R15']//Mclean5_scaled['C25']\n",
    "Mclean5_scaled['ratio R2C1'] =Mclean5_scaled['R25']//Mclean5_scaled['C15']\n",
    "Mclean5_scaled['ratio R2C2'] =Mclean5_scaled['R25']//Mclean5_scaled['C25']\n",
    "\n",
    "Mclean5_scaled['ratio D1R1'] =Mclean5_scaled['D15']//Mclean5_scaled['R15']\n",
    "Mclean5_scaled['ratio D1R2'] =Mclean5_scaled['D15']//Mclean5_scaled['R25']\n",
    "Mclean5_scaled['ratio D2R1'] =Mclean5_scaled['D25']//Mclean5_scaled['R15']\n",
    "Mclean5_scaled['ratio D2R2'] =Mclean5_scaled['D25']//Mclean5_scaled['R15']\n",
    "Mclean5_scaled = Mclean5_scaled.replace([np.inf, -np.inf], 0).dropna()\n"
   ]
  },
  {
   "cell_type": "markdown",
   "id": "1fb68389",
   "metadata": {},
   "source": [
    "martin wants: \n",
    "\n",
    "ratio of regular air to high co2 \n",
    "\n",
    "+plot that against other replicate\n",
    "\n",
    "+light vs dark"
   ]
  },
  {
   "cell_type": "code",
   "execution_count": 1,
   "id": "e9666471",
   "metadata": {},
   "outputs": [
    {
     "ename": "NameError",
     "evalue": "name 'Mclean5_scaled' is not defined",
     "output_type": "error",
     "traceback": [
      "\u001b[1;31m---------------------------------------------------------------------------\u001b[0m",
      "\u001b[1;31mNameError\u001b[0m                                 Traceback (most recent call last)",
      "\u001b[1;32m~\\AppData\\Local\\Temp\\ipykernel_24624\\1306754749.py\u001b[0m in \u001b[0;36m<module>\u001b[1;34m\u001b[0m\n\u001b[0;32m      2\u001b[0m \u001b[1;33m\u001b[0m\u001b[0m\n\u001b[0;32m      3\u001b[0m \u001b[1;33m\u001b[0m\u001b[0m\n\u001b[1;32m----> 4\u001b[1;33m \u001b[1;32mfor\u001b[0m \u001b[0mpattern\u001b[0m\u001b[1;33m,\u001b[0m \u001b[0mgroup\u001b[0m \u001b[1;32min\u001b[0m \u001b[0mMclean5_scaled\u001b[0m\u001b[1;33m.\u001b[0m\u001b[0mgroupby\u001b[0m\u001b[1;33m(\u001b[0m\u001b[1;34m'plates'\u001b[0m\u001b[1;33m)\u001b[0m\u001b[1;33m:\u001b[0m\u001b[1;33m\u001b[0m\u001b[1;33m\u001b[0m\u001b[0m\n\u001b[0m\u001b[0;32m      5\u001b[0m     \u001b[0mgrouped5\u001b[0m\u001b[1;33m[\u001b[0m\u001b[0mpattern\u001b[0m\u001b[1;33m]\u001b[0m \u001b[1;33m=\u001b[0m \u001b[0mgroup\u001b[0m\u001b[1;33m\u001b[0m\u001b[1;33m\u001b[0m\u001b[0m\n\u001b[0;32m      6\u001b[0m \u001b[1;32mfor\u001b[0m \u001b[0mkey\u001b[0m\u001b[1;33m,\u001b[0m \u001b[0mdf\u001b[0m \u001b[1;32min\u001b[0m \u001b[0mgrouped5\u001b[0m\u001b[1;33m.\u001b[0m\u001b[0mitems\u001b[0m\u001b[1;33m(\u001b[0m\u001b[1;33m)\u001b[0m\u001b[1;33m:\u001b[0m\u001b[1;33m\u001b[0m\u001b[1;33m\u001b[0m\u001b[0m\n",
      "\u001b[1;31mNameError\u001b[0m: name 'Mclean5_scaled' is not defined"
     ]
    }
   ],
   "source": [
    "grouped5= {}\n",
    "\n",
    "\n",
    "for pattern, group in Mclean5_scaled.groupby('plates'):\n",
    "    grouped5[pattern] = group\n",
    "for key, df in grouped5.items():\n",
    "    x=df['ratio R1C1']\n",
    "    y=df['ratio R2C2']\n",
    "    plt.scatter(x,y)\n",
    "    plt.xlabel('Ratio R1C1')\n",
    "    plt.ylabel('Ratio R2C2')\n",
    "    plt.title(f'Scatter Plot for Plate {key}')\n",
    "    plt.show() "
   ]
  },
  {
   "cell_type": "code",
   "execution_count": 2,
   "id": "0149f1b4",
   "metadata": {},
   "outputs": [
    {
     "ename": "NameError",
     "evalue": "name 'Mclean5_scaled' is not defined",
     "output_type": "error",
     "traceback": [
      "\u001b[1;31m---------------------------------------------------------------------------\u001b[0m",
      "\u001b[1;31mNameError\u001b[0m                                 Traceback (most recent call last)",
      "\u001b[1;32m~\\AppData\\Local\\Temp\\ipykernel_24624\\3023795642.py\u001b[0m in \u001b[0;36m<module>\u001b[1;34m\u001b[0m\n\u001b[0;32m      2\u001b[0m \u001b[1;33m\u001b[0m\u001b[0m\n\u001b[0;32m      3\u001b[0m \u001b[1;33m\u001b[0m\u001b[0m\n\u001b[1;32m----> 4\u001b[1;33m \u001b[1;32mfor\u001b[0m \u001b[0mpattern\u001b[0m\u001b[1;33m,\u001b[0m \u001b[0mgroup\u001b[0m \u001b[1;32min\u001b[0m \u001b[0mMclean5_scaled\u001b[0m\u001b[1;33m.\u001b[0m\u001b[0mgroupby\u001b[0m\u001b[1;33m(\u001b[0m\u001b[1;34m'plates'\u001b[0m\u001b[1;33m)\u001b[0m\u001b[1;33m:\u001b[0m\u001b[1;33m\u001b[0m\u001b[1;33m\u001b[0m\u001b[0m\n\u001b[0m\u001b[0;32m      5\u001b[0m     \u001b[0mgrouped5\u001b[0m\u001b[1;33m[\u001b[0m\u001b[0mpattern\u001b[0m\u001b[1;33m]\u001b[0m \u001b[1;33m=\u001b[0m \u001b[0mgroup\u001b[0m\u001b[1;33m\u001b[0m\u001b[1;33m\u001b[0m\u001b[0m\n\u001b[0;32m      6\u001b[0m \u001b[1;32mfor\u001b[0m \u001b[0mkey\u001b[0m\u001b[1;33m,\u001b[0m \u001b[0mdf\u001b[0m \u001b[1;32min\u001b[0m \u001b[0mgrouped5\u001b[0m\u001b[1;33m.\u001b[0m\u001b[0mitems\u001b[0m\u001b[1;33m(\u001b[0m\u001b[1;33m)\u001b[0m\u001b[1;33m:\u001b[0m\u001b[1;33m\u001b[0m\u001b[1;33m\u001b[0m\u001b[0m\n",
      "\u001b[1;31mNameError\u001b[0m: name 'Mclean5_scaled' is not defined"
     ]
    }
   ],
   "source": [
    "grouped5= {}\n",
    "\n",
    "\n",
    "for pattern, group in Mclean5_scaled.groupby('plates'):\n",
    "    grouped5[pattern] = group\n",
    "for key, df in grouped5.items():\n",
    "    x=df['ratio R1C2']\n",
    "    y=df['ratio R2C1']\n",
    "    plt.scatter(x,y)\n",
    "    plt.xlabel('Ratio R1C2')\n",
    "    plt.ylabel('Ratio R2C1')\n",
    "    plt.title(f'Scatter Plot for Plate {key}')\n",
    "    plt.show() "
   ]
  },
  {
   "cell_type": "code",
   "execution_count": 3,
   "id": "a1b9acd4",
   "metadata": {},
   "outputs": [
    {
     "ename": "NameError",
     "evalue": "name 'Mclean5_scaled' is not defined",
     "output_type": "error",
     "traceback": [
      "\u001b[1;31m---------------------------------------------------------------------------\u001b[0m",
      "\u001b[1;31mNameError\u001b[0m                                 Traceback (most recent call last)",
      "\u001b[1;32m~\\AppData\\Local\\Temp\\ipykernel_24624\\4090715452.py\u001b[0m in \u001b[0;36m<module>\u001b[1;34m\u001b[0m\n\u001b[0;32m      2\u001b[0m \u001b[1;33m\u001b[0m\u001b[0m\n\u001b[0;32m      3\u001b[0m \u001b[1;33m\u001b[0m\u001b[0m\n\u001b[1;32m----> 4\u001b[1;33m \u001b[1;32mfor\u001b[0m \u001b[0mpattern\u001b[0m\u001b[1;33m,\u001b[0m \u001b[0mgroup\u001b[0m \u001b[1;32min\u001b[0m \u001b[0mMclean5_scaled\u001b[0m\u001b[1;33m.\u001b[0m\u001b[0mgroupby\u001b[0m\u001b[1;33m(\u001b[0m\u001b[1;34m'plates'\u001b[0m\u001b[1;33m)\u001b[0m\u001b[1;33m:\u001b[0m\u001b[1;33m\u001b[0m\u001b[1;33m\u001b[0m\u001b[0m\n\u001b[0m\u001b[0;32m      5\u001b[0m     \u001b[0mgrouped5\u001b[0m\u001b[1;33m[\u001b[0m\u001b[0mpattern\u001b[0m\u001b[1;33m]\u001b[0m \u001b[1;33m=\u001b[0m \u001b[0mgroup\u001b[0m\u001b[1;33m\u001b[0m\u001b[1;33m\u001b[0m\u001b[0m\n\u001b[0;32m      6\u001b[0m \u001b[1;32mfor\u001b[0m \u001b[0mkey\u001b[0m\u001b[1;33m,\u001b[0m \u001b[0mdf\u001b[0m \u001b[1;32min\u001b[0m \u001b[0mgrouped5\u001b[0m\u001b[1;33m.\u001b[0m\u001b[0mitems\u001b[0m\u001b[1;33m(\u001b[0m\u001b[1;33m)\u001b[0m\u001b[1;33m:\u001b[0m\u001b[1;33m\u001b[0m\u001b[1;33m\u001b[0m\u001b[0m\n",
      "\u001b[1;31mNameError\u001b[0m: name 'Mclean5_scaled' is not defined"
     ]
    }
   ],
   "source": [
    "grouped5= {}\n",
    "\n",
    "\n",
    "for pattern, group in Mclean5_scaled.groupby('plates'):\n",
    "    grouped5[pattern] = group\n",
    "for key, df in grouped5.items():\n",
    "    x=df['ratio D1R1']\n",
    "    y=df['ratio D2R2']\n",
    "    plt.scatter(x,y)\n",
    "    plt.xlabel('Ratio D1R1')\n",
    "    plt.ylabel('Ratio D2R2')\n",
    "    plt.title(f'Scatter Plot for Plate {key}')\n",
    "    plt.show() "
   ]
  },
  {
   "cell_type": "code",
   "execution_count": 4,
   "id": "d849a293",
   "metadata": {},
   "outputs": [
    {
     "ename": "NameError",
     "evalue": "name 'Mclean5_scaled' is not defined",
     "output_type": "error",
     "traceback": [
      "\u001b[1;31m---------------------------------------------------------------------------\u001b[0m",
      "\u001b[1;31mNameError\u001b[0m                                 Traceback (most recent call last)",
      "\u001b[1;32m~\\AppData\\Local\\Temp\\ipykernel_24624\\66046396.py\u001b[0m in \u001b[0;36m<module>\u001b[1;34m\u001b[0m\n\u001b[0;32m      2\u001b[0m \u001b[1;33m\u001b[0m\u001b[0m\n\u001b[0;32m      3\u001b[0m \u001b[1;33m\u001b[0m\u001b[0m\n\u001b[1;32m----> 4\u001b[1;33m \u001b[1;32mfor\u001b[0m \u001b[0mpattern\u001b[0m\u001b[1;33m,\u001b[0m \u001b[0mgroup\u001b[0m \u001b[1;32min\u001b[0m \u001b[0mMclean5_scaled\u001b[0m\u001b[1;33m.\u001b[0m\u001b[0mgroupby\u001b[0m\u001b[1;33m(\u001b[0m\u001b[1;34m'plates'\u001b[0m\u001b[1;33m)\u001b[0m\u001b[1;33m:\u001b[0m\u001b[1;33m\u001b[0m\u001b[1;33m\u001b[0m\u001b[0m\n\u001b[0m\u001b[0;32m      5\u001b[0m     \u001b[0mgrouped5\u001b[0m\u001b[1;33m[\u001b[0m\u001b[0mpattern\u001b[0m\u001b[1;33m]\u001b[0m \u001b[1;33m=\u001b[0m \u001b[0mgroup\u001b[0m\u001b[1;33m\u001b[0m\u001b[1;33m\u001b[0m\u001b[0m\n\u001b[0;32m      6\u001b[0m \u001b[1;32mfor\u001b[0m \u001b[0mkey\u001b[0m\u001b[1;33m,\u001b[0m \u001b[0mdf\u001b[0m \u001b[1;32min\u001b[0m \u001b[0mgrouped5\u001b[0m\u001b[1;33m.\u001b[0m\u001b[0mitems\u001b[0m\u001b[1;33m(\u001b[0m\u001b[1;33m)\u001b[0m\u001b[1;33m:\u001b[0m\u001b[1;33m\u001b[0m\u001b[1;33m\u001b[0m\u001b[0m\n",
      "\u001b[1;31mNameError\u001b[0m: name 'Mclean5_scaled' is not defined"
     ]
    }
   ],
   "source": [
    "grouped5= {}\n",
    "\n",
    "\n",
    "for pattern, group in Mclean5_scaled.groupby('plates'):\n",
    "    grouped5[pattern] = group\n",
    "for key, df in grouped5.items():\n",
    "    x=df['ratio D1R2']\n",
    "    y=df['ratio D2R1']\n",
    "    plt.scatter(x,y)\n",
    "    plt.xlabel('Ratio D1R2')\n",
    "    plt.ylabel('Ratio D2R1')\n",
    "    plt.title(f'Scatter Plot for Plate {key}')\n",
    "    plt.show() "
   ]
  },
  {
   "cell_type": "code",
   "execution_count": 5,
   "id": "e36692ab",
   "metadata": {},
   "outputs": [
    {
     "ename": "NameError",
     "evalue": "name 'Mclean5_scaled' is not defined",
     "output_type": "error",
     "traceback": [
      "\u001b[1;31m---------------------------------------------------------------------------\u001b[0m",
      "\u001b[1;31mNameError\u001b[0m                                 Traceback (most recent call last)",
      "\u001b[1;32m~\\AppData\\Local\\Temp\\ipykernel_24624\\4077912792.py\u001b[0m in \u001b[0;36m<module>\u001b[1;34m\u001b[0m\n\u001b[1;32m----> 1\u001b[1;33m \u001b[0mone_wk\u001b[0m \u001b[1;33m=\u001b[0m \u001b[0mMclean5_scaled\u001b[0m\u001b[1;33m.\u001b[0m\u001b[0miloc\u001b[0m\u001b[1;33m[\u001b[0m\u001b[1;33m:\u001b[0m\u001b[1;36m150\u001b[0m\u001b[1;33m]\u001b[0m\u001b[1;33m\u001b[0m\u001b[1;33m\u001b[0m\u001b[0m\n\u001b[0m\u001b[0;32m      2\u001b[0m \u001b[0mtwo_wk\u001b[0m \u001b[1;33m=\u001b[0m \u001b[0mMclean5_scaled\u001b[0m\u001b[1;33m.\u001b[0m\u001b[0miloc\u001b[0m\u001b[1;33m[\u001b[0m\u001b[1;36m150\u001b[0m\u001b[1;33m:\u001b[0m\u001b[1;36m300\u001b[0m\u001b[1;33m]\u001b[0m\u001b[1;33m\u001b[0m\u001b[1;33m\u001b[0m\u001b[0m\n",
      "\u001b[1;31mNameError\u001b[0m: name 'Mclean5_scaled' is not defined"
     ]
    }
   ],
   "source": [
    "one_wk = Mclean5_scaled.iloc[:150]  \n",
    "two_wk = Mclean5_scaled.iloc[150:300]   \n"
   ]
  },
  {
   "cell_type": "code",
   "execution_count": null,
   "id": "9a81e589",
   "metadata": {},
   "outputs": [],
   "source": []
  },
  {
   "cell_type": "code",
   "execution_count": 6,
   "id": "e40f2b62",
   "metadata": {
    "scrolled": true
   },
   "outputs": [
    {
     "ename": "NameError",
     "evalue": "name 'one_wk' is not defined",
     "output_type": "error",
     "traceback": [
      "\u001b[1;31m---------------------------------------------------------------------------\u001b[0m",
      "\u001b[1;31mNameError\u001b[0m                                 Traceback (most recent call last)",
      "\u001b[1;32m~\\AppData\\Local\\Temp\\ipykernel_24624\\3326191794.py\u001b[0m in \u001b[0;36m<module>\u001b[1;34m\u001b[0m\n\u001b[1;32m----> 1\u001b[1;33m \u001b[0mx\u001b[0m \u001b[1;33m=\u001b[0m \u001b[1;33m[\u001b[0m\u001b[0mone_wk\u001b[0m\u001b[1;33m[\u001b[0m\u001b[1;34m'ratio R1C1'\u001b[0m\u001b[1;33m]\u001b[0m\u001b[1;33m]\u001b[0m\u001b[1;33m\u001b[0m\u001b[1;33m\u001b[0m\u001b[0m\n\u001b[0m\u001b[0;32m      2\u001b[0m \u001b[0my\u001b[0m \u001b[1;33m=\u001b[0m \u001b[1;33m[\u001b[0m\u001b[0mtwo_wk\u001b[0m\u001b[1;33m[\u001b[0m\u001b[1;34m'ratio R1C1'\u001b[0m\u001b[1;33m]\u001b[0m\u001b[1;33m]\u001b[0m\u001b[1;33m\u001b[0m\u001b[1;33m\u001b[0m\u001b[0m\n\u001b[0;32m      3\u001b[0m \u001b[0mplt\u001b[0m\u001b[1;33m.\u001b[0m\u001b[0mxlabel\u001b[0m\u001b[1;33m(\u001b[0m\u001b[1;34m'One week'\u001b[0m\u001b[1;33m)\u001b[0m\u001b[1;33m\u001b[0m\u001b[1;33m\u001b[0m\u001b[0m\n\u001b[0;32m      4\u001b[0m \u001b[0mplt\u001b[0m\u001b[1;33m.\u001b[0m\u001b[0mylabel\u001b[0m\u001b[1;33m(\u001b[0m\u001b[1;34m'Two week'\u001b[0m\u001b[1;33m)\u001b[0m\u001b[1;33m\u001b[0m\u001b[1;33m\u001b[0m\u001b[0m\n\u001b[0;32m      5\u001b[0m \u001b[0mplt\u001b[0m\u001b[1;33m.\u001b[0m\u001b[0mtitle\u001b[0m\u001b[1;33m(\u001b[0m\u001b[1;34m'R1C1 between weeks'\u001b[0m\u001b[1;33m)\u001b[0m\u001b[1;33m\u001b[0m\u001b[1;33m\u001b[0m\u001b[0m\n",
      "\u001b[1;31mNameError\u001b[0m: name 'one_wk' is not defined"
     ]
    }
   ],
   "source": [
    "x = [one_wk['ratio R1C1']]\n",
    "y = [two_wk['ratio R1C1']]\n",
    "plt.xlabel('One week')\n",
    "plt.ylabel('Two week')\n",
    "plt.title('R1C1 between weeks')\n",
    "plt.scatter(x,y)\n"
   ]
  },
  {
   "cell_type": "code",
   "execution_count": 7,
   "id": "fd65a4c6",
   "metadata": {},
   "outputs": [
    {
     "ename": "NameError",
     "evalue": "name 'one_wk' is not defined",
     "output_type": "error",
     "traceback": [
      "\u001b[1;31m---------------------------------------------------------------------------\u001b[0m",
      "\u001b[1;31mNameError\u001b[0m                                 Traceback (most recent call last)",
      "\u001b[1;32m~\\AppData\\Local\\Temp\\ipykernel_24624\\3971751521.py\u001b[0m in \u001b[0;36m<module>\u001b[1;34m\u001b[0m\n\u001b[1;32m----> 1\u001b[1;33m \u001b[0mx\u001b[0m \u001b[1;33m=\u001b[0m \u001b[1;33m[\u001b[0m\u001b[0mone_wk\u001b[0m\u001b[1;33m[\u001b[0m\u001b[1;34m'ratio R1C2'\u001b[0m\u001b[1;33m]\u001b[0m\u001b[1;33m]\u001b[0m\u001b[1;33m\u001b[0m\u001b[1;33m\u001b[0m\u001b[0m\n\u001b[0m\u001b[0;32m      2\u001b[0m \u001b[0my\u001b[0m \u001b[1;33m=\u001b[0m \u001b[1;33m[\u001b[0m\u001b[0mtwo_wk\u001b[0m\u001b[1;33m[\u001b[0m\u001b[1;34m'ratio R1C2'\u001b[0m\u001b[1;33m]\u001b[0m\u001b[1;33m]\u001b[0m\u001b[1;33m\u001b[0m\u001b[1;33m\u001b[0m\u001b[0m\n\u001b[0;32m      3\u001b[0m \u001b[0mplt\u001b[0m\u001b[1;33m.\u001b[0m\u001b[0mxlabel\u001b[0m\u001b[1;33m(\u001b[0m\u001b[1;34m'One week'\u001b[0m\u001b[1;33m)\u001b[0m\u001b[1;33m\u001b[0m\u001b[1;33m\u001b[0m\u001b[0m\n\u001b[0;32m      4\u001b[0m \u001b[0mplt\u001b[0m\u001b[1;33m.\u001b[0m\u001b[0mylabel\u001b[0m\u001b[1;33m(\u001b[0m\u001b[1;34m'Two week'\u001b[0m\u001b[1;33m)\u001b[0m\u001b[1;33m\u001b[0m\u001b[1;33m\u001b[0m\u001b[0m\n\u001b[0;32m      5\u001b[0m \u001b[0mplt\u001b[0m\u001b[1;33m.\u001b[0m\u001b[0mtitle\u001b[0m\u001b[1;33m(\u001b[0m\u001b[1;34m'R1C2 between weeks'\u001b[0m\u001b[1;33m)\u001b[0m\u001b[1;33m\u001b[0m\u001b[1;33m\u001b[0m\u001b[0m\n",
      "\u001b[1;31mNameError\u001b[0m: name 'one_wk' is not defined"
     ]
    }
   ],
   "source": [
    "x = [one_wk['ratio R1C2']]\n",
    "y = [two_wk['ratio R1C2']]\n",
    "plt.xlabel('One week')\n",
    "plt.ylabel('Two week')\n",
    "plt.title('R1C2 between weeks')\n",
    "plt.scatter(x,y)\n"
   ]
  },
  {
   "cell_type": "code",
   "execution_count": 57,
   "id": "e819966c",
   "metadata": {},
   "outputs": [
    {
     "data": {
      "text/plain": [
       "<matplotlib.collections.PathCollection at 0x1f9bd352280>"
      ]
     },
     "execution_count": 57,
     "metadata": {},
     "output_type": "execute_result"
    },
    {
     "data": {
      "image/png": "[encoded data removed]",
      "text/plain": [
       "<Figure size 640x480 with 1 Axes>"
      ]
     },
     "metadata": {},
     "output_type": "display_data"
    }
   ],
   "source": [
    "x = [one_wk['ratio R2C2']]\n",
    "y = [two_wk['ratio R2C2']]\n",
    "plt.xlabel('One week')\n",
    "plt.ylabel('Two week')\n",
    "plt.title('R2C2 between weeks')\n",
    "plt.scatter(x,y)\n"
   ]
  },
  {
   "cell_type": "code",
   "execution_count": 58,
   "id": "6aa4452b",
   "metadata": {},
   "outputs": [
    {
     "data": {
      "text/plain": [
       "<matplotlib.collections.PathCollection at 0x1f9bba132b0>"
      ]
     },
     "execution_count": 58,
     "metadata": {},
     "output_type": "execute_result"
    },
    {
     "data": {
      "image/png": "[encoded data removed]",
      "text/plain": [
       "<Figure size 640x480 with 1 Axes>"
      ]
     },
     "metadata": {},
     "output_type": "display_data"
    }
   ],
   "source": [
    "x = [one_wk['ratio R2C1']]\n",
    "y = [two_wk['ratio R2C1']]\n",
    "plt.xlabel('One week')\n",
    "plt.ylabel('Two week')\n",
    "plt.title('R2C1 between weeks')\n",
    "plt.scatter(x,y)\n"
   ]
  },
  {
   "cell_type": "code",
   "execution_count": null,
   "id": "c9782ffd",
   "metadata": {},
   "outputs": [],
   "source": []
  }
 ],
 "metadata": {
  "kernelspec": {
   "display_name": "Python 3 (ipykernel)",
   "language": "python",
   "name": "python3"
  },
  "language_info": {
   "codemirror_mode": {
    "name": "ipython",
    "version": 3
   },
   "file_extension": ".py",
   "mimetype": "text/x-python",
   "name": "python",
   "nbconvert_exporter": "python",
   "pygments_lexer": "ipython3",
   "version": "3.9.13"
  }
 },
 "nbformat": 4,
 "nbformat_minor": 5
}
