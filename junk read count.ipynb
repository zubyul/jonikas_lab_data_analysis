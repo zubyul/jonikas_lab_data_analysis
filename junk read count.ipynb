{
 "cells": [
  {
   "cell_type": "code",
   "execution_count": 54,
   "id": "bf9ef1aa",
   "metadata": {},
   "outputs": [
    {
     "name": "stdout",
     "output_type": "stream",
     "text": [
      "                             IB plate well  C15  C25  D15  D25  R15  R25\n",
      "5134318  TTTTTTTTTTCGTGTGGATGTT     -    -    0    0    0    0    1    0\n",
      "5134319  TTTTTTTTTTGTACTGGCTTTT     -    -    0    0    0    1    0    1\n",
      "5134320  TTTTTTTTTTGTCAAGTGTCTG     -    -    0    0    0    1    0    0\n",
      "5134321  TTTTTTTTTTTCCCGCTGGTGG     -    -    1    1    0    0    0    0\n",
      "5134322  TTTTTTTTTTTTACAGCCTTTT     -    -    0    0    0    1    0    0\n"
     ]
    }
   ],
   "source": [
    "import pandas as pd\n",
    "import seaborn as sns\n",
    "import matplotlib.pyplot as plt\n",
    "plt.rcParams['figure.max_open_warning'] = 0\n",
    "import numpy as np\n",
    "dfnull = pd.read_table(r\"D:\\Yuliya_test_data_table\\data.csv\", delimiter = '\\t')#, nrows=2)\n",
    "print(dfnull.tail())"
   ]
  },
  {
   "cell_type": "code",
   "execution_count": 25,
   "id": "a84914de",
   "metadata": {},
   "outputs": [
    {
     "name": "stdout",
     "output_type": "stream",
     "text": [
      "[███████████████████████████████████████████░░░░░░░]\n"
     ]
    }
   ],
   "source": [
    "def draw_completion_bar(percentage):\n",
    "    bar_length = 50\n",
    "    num_blocks = int(percentage / 100 * bar_length)\n",
    "    completion_bar = \"[\" + \"█\" * num_blocks + \"░\" * (bar_length - num_blocks) + \"]\"\n",
    "    print(completion_bar)\n",
    "\n",
    "percentage = 86\n",
    "draw_completion_bar(percentage)"
   ]
  },
  {
   "cell_type": "code",
   "execution_count": 45,
   "id": "f9efe671",
   "metadata": {},
   "outputs": [
    {
     "name": "stdout",
     "output_type": "stream",
     "text": [
      "Count of non-zero values in column C15: 1514692\n",
      "Count of '-' plates where C15 is not zero: 1415063\n",
      "Percentage of false reads in High C02 1: 93.4\n",
      "[██████████████████████████████████████████████░░░░]\n"
     ]
    }
   ],
   "source": [
    "#c1 = dfnull['C15'].apply(lambda x: 1 if x != 0 else 0).sum()\n",
    "#emptyc1 = dfnull.apply(lambda row: 1 if row['C15'] != 0 and row['plate'] == '-' else 0, axis=1).sum()\n",
    "\n",
    "print(\"Count of non-zero values in column C15:\", c1)\n",
    "print(\"Count of '-' plates where C15 is not zero:\", emptyc1)\n",
    "\n",
    "percent_emptyc1 = round((emptyc1 / c1) * 100, 1)\n",
    "\n",
    "print(\"Percentage of false reads in High C02 1:\", percent_emptyc1)\n",
    "draw_completion_bar(percent_emptyc1)"
   ]
  },
  {
   "cell_type": "code",
   "execution_count": 46,
   "id": "534d6424",
   "metadata": {},
   "outputs": [
    {
     "name": "stdout",
     "output_type": "stream",
     "text": [
      "Count of non-zero values in column C25: 1340667\n",
      "Count of '-' plates where C25 is not zero: 1240429\n",
      "Percentage of false reads in High C02 2: 92.5\n",
      "[██████████████████████████████████████████████░░░░]\n"
     ]
    }
   ],
   "source": [
    "#c2 = dfnull['C25'].apply(lambda x: 1 if x != 0 else 0).sum()\n",
    "#emptyc2 = dfnull.apply(lambda row: 1 if row['C25'] != 0 and row['plate'] == '-' else 0, axis=1).sum()\n",
    "\n",
    "print(\"Count of non-zero values in column C25:\", c2)\n",
    "print(\"Count of '-' plates where C25 is not zero:\", emptyc2)\n",
    "\n",
    "percent_emptyc2 = round((emptyc2 / c2) * 100,1)\n",
    "\n",
    "print(\"Percentage of false reads in High C02 2:\", percent_emptyc2)\n",
    "draw_completion_bar(percent_emptyc2)"
   ]
  },
  {
   "cell_type": "code",
   "execution_count": 47,
   "id": "ae15939c",
   "metadata": {},
   "outputs": [
    {
     "name": "stdout",
     "output_type": "stream",
     "text": [
      "Count of non-zero values in column D15: 1157548\n",
      "Count of '-' plates where D15 is not zero: 1059683\n",
      "Percentage of false reads in Dark 1: 91.5\n",
      "[█████████████████████████████████████████████░░░░░]\n"
     ]
    }
   ],
   "source": [
    "#d1 = dfnull['D15'].apply(lambda x: 1 if x != 0 else 0).sum()\n",
    "#emptyd1= dfnull.apply(lambda row: 1 if row['D15'] != 0 and row['plate'] == '-' else 0, axis=1).sum()\n",
    "\n",
    "print(\"Count of non-zero values in column D15:\", d1)\n",
    "print(\"Count of '-' plates where D15 is not zero:\", emptyd1)\n",
    "percent_emptyd1 = round((emptyd1 / d1) * 100,1)\n",
    "\n",
    "print(\"Percentage of false reads in Dark 1:\", percent_emptyd1)\n",
    "draw_completion_bar(percent_emptyd1)"
   ]
  },
  {
   "cell_type": "code",
   "execution_count": 48,
   "id": "f95057fd",
   "metadata": {},
   "outputs": [
    {
     "name": "stdout",
     "output_type": "stream",
     "text": [
      "Count of non-zero values in column D25: 2193017\n",
      "Count of '-' plates where D25 is not zero: 2093698\n",
      "Percentage of false reads in Dark 2: 95.5\n",
      "[███████████████████████████████████████████████░░░]\n"
     ]
    }
   ],
   "source": [
    "#d2 = dfnull['D25'].apply(lambda x: 1 if x != 0 else 0).sum()\n",
    "#emptyd2 = dfnull.apply(lambda row: 1 if row['D25'] != 0 and row['plate'] == '-' else 0, axis=1).sum()\n",
    "\n",
    "print(\"Count of non-zero values in column D25:\", d2)\n",
    "print(\"Count of '-' plates where D25 is not zero:\", emptyd2)\n",
    "percent_emptyd2 = round((emptyd2 / d2) * 100,1)\n",
    "\n",
    "print(\"Percentage of false reads in Dark 2:\", percent_emptyd2)\n",
    "draw_completion_bar(percent_emptyd2)"
   ]
  },
  {
   "cell_type": "code",
   "execution_count": 49,
   "id": "8f062cdb",
   "metadata": {},
   "outputs": [
    {
     "name": "stdout",
     "output_type": "stream",
     "text": [
      "Count of non-zero values in column R15: 703345\n",
      "Count of '-' plates where R15 is not zero: 604920\n",
      "Percentage of false reads in Regular Atmosphere 1: 86.0\n",
      "[███████████████████████████████████████████░░░░░░░]\n"
     ]
    }
   ],
   "source": [
    "#r1 = dfnull['R15'].apply(lambda x: 1 if x != 0 else 0).sum()\n",
    "#emptyr1 = dfnull.apply(lambda row: 1 if row['R15'] != 0 and row['plate'] == '-' else 0, axis=1).sum()\n",
    "\n",
    "print(\"Count of non-zero values in column R15:\", r1)\n",
    "print(\"Count of '-' plates where R15 is not zero:\", emptyr1)\n",
    "percent_emptyr1 = round((emptyr1 / r1) * 100,1)\n",
    "\n",
    "print(\"Percentage of false reads in Regular Atmosphere 1:\", percent_emptyr1)\n",
    "draw_completion_bar(percent_emptyr1)"
   ]
  },
  {
   "cell_type": "code",
   "execution_count": 50,
   "id": "e2b32c4e",
   "metadata": {},
   "outputs": [
    {
     "name": "stdout",
     "output_type": "stream",
     "text": [
      "Count of non-zero values in column R25: 1294767\n",
      "Count of '-' plates where R25 is not zero: 1194240\n",
      "Percentage of false reads in Regular Atmosphere 2: 92.2\n",
      "[██████████████████████████████████████████████░░░░]\n"
     ]
    }
   ],
   "source": [
    "#r2 = dfnull['R25'].apply(lambda x: 1 if x != 0 else 0).sum()\n",
    "#emptyr2 = dfnull.apply(lambda row: 1 if row['R25'] != 0 and row['plate'] == '-' else 0, axis=1).sum()\n",
    "\n",
    "print(\"Count of non-zero values in column R25:\", r2)\n",
    "print(\"Count of '-' plates where R25 is not zero:\", emptyr2)\n",
    "\n",
    "percent_emptyr2 = round((emptyr2 / r2) * 100,1)\n",
    "\n",
    "print(\"Percentage of false reads in Regular Atmosphere 2:\", percent_emptyr2)\n",
    "draw_completion_bar(percent_emptyr2)"
   ]
  },
  {
   "cell_type": "code",
   "execution_count": 53,
   "id": "ec38074d",
   "metadata": {},
   "outputs": [
    {
     "name": "stdout",
     "output_type": "stream",
     "text": [
      "Percentage of false reads in High C02 1: 93.4\n",
      "[██████████████████████████████████████████████░░░░]\n",
      "  \n",
      "Percentage of false reads in High C02 2: 92.5\n",
      "[██████████████████████████████████████████████░░░░]\n",
      "  \n",
      "Percentage of false reads in Dark 1: 91.5\n",
      "[█████████████████████████████████████████████░░░░░]\n",
      "  \n",
      "Percentage of false reads in Dark 2: 95.5\n",
      "[███████████████████████████████████████████████░░░]\n",
      "  \n",
      "Percentage of false reads in Regular Atmosphere 1: 86.0\n",
      "[███████████████████████████████████████████░░░░░░░]\n",
      "  \n",
      "Percentage of false reads in Regular Atmosphere 2: 92.2\n",
      "[██████████████████████████████████████████████░░░░]\n",
      "  \n"
     ]
    }
   ],
   "source": [
    "print(\"Percentage of false reads in High C02 1:\", percent_emptyc1)\n",
    "draw_completion_bar(percent_emptyc1)\n",
    "print(\"  \")\n",
    "print(\"Percentage of false reads in High C02 2:\", percent_emptyc2)\n",
    "draw_completion_bar(percent_emptyc2)\n",
    "print(\"  \")\n",
    "print(\"Percentage of false reads in Dark 1:\", percent_emptyd1)\n",
    "draw_completion_bar(percent_emptyd1)\n",
    "print(\"  \")\n",
    "print(\"Percentage of false reads in Dark 2:\", percent_emptyd2)\n",
    "draw_completion_bar(percent_emptyd2)\n",
    "print(\"  \")\n",
    "print(\"Percentage of false reads in Regular Atmosphere 1:\", percent_emptyr1)\n",
    "draw_completion_bar(percent_emptyr1)\n",
    "print(\"  \")\n",
    "print(\"Percentage of false reads in Regular Atmosphere 2:\", percent_emptyr2)\n",
    "draw_completion_bar(percent_emptyr2)\n",
    "print(\"  \")"
   ]
  },
  {
   "cell_type": "code",
   "execution_count": 32,
   "id": "4fdfae26",
   "metadata": {},
   "outputs": [
    {
     "name": "stdout",
     "output_type": "stream",
     "text": [
      "[████████████████████████████████░░░░░░░░░░░░░░░░░░]\n"
     ]
    }
   ],
   "source": [
    "chamicals= (80/122)*100\n",
    "draw_completion_bar(chamicals)"
   ]
  },
  {
   "cell_type": "code",
   "execution_count": null,
   "id": "8cdfdd47",
   "metadata": {},
   "outputs": [],
   "source": []
  },
  {
   "cell_type": "code",
   "execution_count": null,
   "id": "cc0ac565",
   "metadata": {},
   "outputs": [],
   "source": []
  },
  {
   "cell_type": "code",
   "execution_count": null,
   "id": "b1a21373",
   "metadata": {},
   "outputs": [],
   "source": []
  },
  {
   "cell_type": "code",
   "execution_count": null,
   "id": "0306dd2d",
   "metadata": {},
   "outputs": [],
   "source": []
  },
  {
   "cell_type": "code",
   "execution_count": null,
   "id": "ba790f68",
   "metadata": {},
   "outputs": [],
   "source": []
  },
  {
   "cell_type": "code",
   "execution_count": null,
   "id": "449389a0",
   "metadata": {},
   "outputs": [],
   "source": []
  }
 ],
 "metadata": {
  "kernelspec": {
   "display_name": "Python 3 (ipykernel)",
   "language": "python",
   "name": "python3"
  },
  "language_info": {
   "codemirror_mode": {
    "name": "ipython",
    "version": 3
   },
   "file_extension": ".py",
   "mimetype": "text/x-python",
   "name": "python",
   "nbconvert_exporter": "python",
   "pygments_lexer": "ipython3",
   "version": "3.9.13"
  }
 },
 "nbformat": 4,
 "nbformat_minor": 5
}
